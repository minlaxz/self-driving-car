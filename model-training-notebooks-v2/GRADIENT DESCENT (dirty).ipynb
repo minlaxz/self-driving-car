{
 "cells": [
  {
   "cell_type": "code",
   "execution_count": 2,
   "metadata": {},
   "outputs": [
    {
     "data": {
      "image/png": "[encoded data removed]",
      "text/plain": [
       "<Figure size 288x288 with 1 Axes>"
      ]
     },
     "metadata": {
      "needs_background": "light"
     },
     "output_type": "display_data"
    }
   ],
   "source": [
    "import numpy as np\n",
    "import matplotlib.pyplot as plt\n",
    "\n",
    "def draw_line(x1,x2):\n",
    "    ln = plt.plot(x1,x2)\n",
    "    \n",
    "def sigmoid(score):\n",
    "    return 1/(1 + np.exp(-score))\n",
    "\n",
    "def calculate_error(parameters , points , y):\n",
    "    m = points.shape[0]\n",
    "    p = sigmoid(points*parameters)\n",
    "    cross_entropy = - (1 / m) * (np.log(p).T * y + np.log(1-p).T *(1 - y))\n",
    "    return cross_entropy\n",
    "\n",
    "def gradient_descent(parameters,points,y,alpha):\n",
    "    m = points.shape[0]\n",
    "    for i in range(1000):\n",
    "        p = sigmoid(points*parameters)\n",
    "        gradient = (points.T * (p - y))*(alpha/m)\n",
    "        parameters = parameters - gradient\n",
    "        w1=parameters.item(0)\n",
    "        w2=parameters.item(1)\n",
    "        b=parameters.item(2)\n",
    "        x1 = np.array([points[:,1].min() , points[:,0].max()])\n",
    "        x2 = -b / w2 + x1 * (- w1 / w2)\n",
    "    draw_line(x1,x2)\n",
    "\n",
    "n_points = 100\n",
    "np.random.seed(0)\n",
    "bias = np.ones(n_points)\n",
    "\n",
    "\n",
    "\n",
    "top_region = np.array([np.random.normal(10, 2, n_points),np.random.normal(12, 2, n_points), bias]).T\n",
    "bottom_region = np.array([np.random.normal(5,2,n_points),np.random.normal(6,2,n_points), bias]).T\n",
    "\n",
    "parameters = np.matrix([np.zeros(3)]).T\n",
    "y = np.array([np.zeros(n_points),np.ones(n_points)]).reshape(n_points*2,1)\n",
    "all_points = np.vstack([top_region,bottom_region])\n",
    "\n",
    "_ , ax = plt.subplots(figsize=(4,4))\n",
    "\n",
    "ax.scatter(top_region[:,0],top_region[:,1],color='r')\n",
    "ax.scatter(bottom_region[:,0],bottom_region[:,1],color='b')\n",
    "gradient_descent(parameters,all_points,y,0.7)"
   ]
  },
  {
   "cell_type": "code",
   "execution_count": 51,
   "metadata": {},
   "outputs": [],
   "source": [
    "#w1 = -0.1\n",
    "#w2 = -0.15\n",
    "#b = 0\n",
    "#parameters = np.matrix([np.zeros(3)]).T\n",
    "#x1 = np.array([bottom_region[:,1].min() , top_region[:,0].max()])\n",
    "#x2 = -b / w2 + x1 * (- w1 / w2)"
   ]
  },
  {
   "cell_type": "code",
   "execution_count": null,
   "metadata": {},
   "outputs": [],
   "source": []
  }
 ],
 "metadata": {
  "kernelspec": {
   "display_name": "Python 3",
   "language": "python",
   "name": "python3"
  },
  "language_info": {
   "codemirror_mode": {
    "name": "ipython",
    "version": 3
   },
   "file_extension": ".py",
   "mimetype": "text/x-python",
   "name": "python",
   "nbconvert_exporter": "python",
   "pygments_lexer": "ipython3",
   "version": "3.6.10"
  }
 },
 "nbformat": 4,
 "nbformat_minor": 4
}
