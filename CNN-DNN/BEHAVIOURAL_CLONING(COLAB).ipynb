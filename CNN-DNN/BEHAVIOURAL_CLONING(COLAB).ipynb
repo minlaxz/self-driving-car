{
 "cells": [
  {
   "cell_type": "code",
   "execution_count": null,
   "metadata": {
    "colab": {
     "base_uri": "https://localhost:8080/",
     "height": 80
    },
    "colab_type": "code",
    "executionInfo": {
     "elapsed": 3776,
     "status": "ok",
     "timestamp": 1577466634431,
     "user": {
      "displayName": "Min Latt",
      "photoUrl": "https://lh3.googleusercontent.com/a-/AAuE7mAlt9KMKg2D8MYHum5U8ursCUdVl9obQ-lFZgotjQ=s64",
      "userId": "09358913500386119424"
     },
     "user_tz": -390
    },
    "id": "Cq4NO8PRoRIe",
    "outputId": "cd0b76ef-cff0-4ff0-d7cd-e021bd5b16a2"
   },
   "outputs": [],
   "source": [
    "import numpy as np\n",
    "from keras.models import Sequential \n",
    "from keras.optimizers import Adam\n",
    "from keras.layers import Flatten, Dense, Dropout\n",
    "import pandas as pd\n",
    "import matplotlib.pyplot as plt\n",
    "import cv2, random, os, ntpath\n",
    "from sklearn.utils import shuffle\n",
    "from keras.layers import Convolution2D #check\n",
    "from sklearn.model_selection import train_test_split\n",
    "import matplotlib.image as mpimg\n",
    "from imgaug import augmenters as iaa"
   ]
  },
  {
   "cell_type": "code",
   "execution_count": null,
   "metadata": {
    "colab": {
     "base_uri": "https://localhost:8080/",
     "height": 102
    },
    "colab_type": "code",
    "executionInfo": {
     "elapsed": 15505,
     "status": "ok",
     "timestamp": 1577466655896,
     "user": {
      "displayName": "Min Latt",
      "photoUrl": "https://lh3.googleusercontent.com/a-/AAuE7mAlt9KMKg2D8MYHum5U8ursCUdVl9obQ-lFZgotjQ=s64",
      "userId": "09358913500386119424"
     },
     "user_tz": -390
    },
    "id": "8Utw2rrFGjcS",
    "outputId": "f2488a5c-c3bd-4d24-fdd4-fd3e4a6e0b0c"
   },
   "outputs": [],
   "source": [
    "!git clone https://github.com/rslim087a/track\n",
    "#!git clone https://github.com/minlaxz/simulator_track\n",
    "#!pip3 install imgaug"
   ]
  },
  {
   "cell_type": "code",
   "execution_count": null,
   "metadata": {
    "colab": {
     "base_uri": "https://localhost:8080/",
     "height": 224
    },
    "colab_type": "code",
    "executionInfo": {
     "elapsed": 7665,
     "status": "ok",
     "timestamp": 1577466655899,
     "user": {
      "displayName": "Min Latt",
      "photoUrl": "https://lh3.googleusercontent.com/a-/AAuE7mAlt9KMKg2D8MYHum5U8ursCUdVl9obQ-lFZgotjQ=s64",
      "userId": "09358913500386119424"
     },
     "user_tz": -390
    },
    "id": "Q7wEB7VLoyms",
    "outputId": "17d23880-7266-4bf4-f103-da2974deeaf8"
   },
   "outputs": [],
   "source": [
    "datadir = 'track'\n",
    "columns = ['center', 'left', 'right', 'steering', 'throttle', 'reverse', 'speed']\n",
    "data = pd.read_csv(os.path.join(datadir,'driving_log.csv'), names = columns)\n",
    "pd.set_option('display.max_colwidth', -1)\n",
    "data.head()"
   ]
  },
  {
   "cell_type": "code",
   "execution_count": null,
   "metadata": {
    "colab": {
     "base_uri": "https://localhost:8080/",
     "height": 142
    },
    "colab_type": "code",
    "executionInfo": {
     "elapsed": 4552,
     "status": "ok",
     "timestamp": 1577466655901,
     "user": {
      "displayName": "Min Latt",
      "photoUrl": "https://lh3.googleusercontent.com/a-/AAuE7mAlt9KMKg2D8MYHum5U8ursCUdVl9obQ-lFZgotjQ=s64",
      "userId": "09358913500386119424"
     },
     "user_tz": -390
    },
    "id": "jfB2BuQZpPFx",
    "outputId": "3a9250b7-fb4b-4365-d7f3-a35413a05cd7"
   },
   "outputs": [],
   "source": [
    "def path_leaf(path):\n",
    "  head, tail= ntpath.split(path)\n",
    "  return tail\n",
    "\n",
    "data['center'] = data['center'].apply(path_leaf)\n",
    "data['left'] = data['left'].apply(path_leaf)\n",
    "data['right'] = data['right'].apply(path_leaf)\n",
    "data.head(3)"
   ]
  },
  {
   "cell_type": "code",
   "execution_count": null,
   "metadata": {
    "colab": {
     "base_uri": "https://localhost:8080/",
     "height": 34
    },
    "colab_type": "code",
    "executionInfo": {
     "elapsed": 2572,
     "status": "ok",
     "timestamp": 1577466655904,
     "user": {
      "displayName": "Min Latt",
      "photoUrl": "https://lh3.googleusercontent.com/a-/AAuE7mAlt9KMKg2D8MYHum5U8ursCUdVl9obQ-lFZgotjQ=s64",
      "userId": "09358913500386119424"
     },
     "user_tz": -390
    },
    "id": "sOlja-p1jTjV",
    "outputId": "fe25bb01-9ef5-40c5-f2ec-50ee92eb8a39"
   },
   "outputs": [],
   "source": [
    "type(data['center'].head(3))"
   ]
  },
  {
   "cell_type": "code",
   "execution_count": null,
   "metadata": {
    "colab": {
     "base_uri": "https://localhost:8080/",
     "height": 85
    },
    "colab_type": "code",
    "executionInfo": {
     "elapsed": 1634,
     "status": "ok",
     "timestamp": 1577466656480,
     "user": {
      "displayName": "Min Latt",
      "photoUrl": "https://lh3.googleusercontent.com/a-/AAuE7mAlt9KMKg2D8MYHum5U8ursCUdVl9obQ-lFZgotjQ=s64",
      "userId": "09358913500386119424"
     },
     "user_tz": -390
    },
    "id": "Hp4TFRrRjhCn",
    "outputId": "2ad8de52-3dc0-4af0-8dcc-439745b43e25"
   },
   "outputs": [],
   "source": [
    "data['center'].head(3)"
   ]
  },
  {
   "cell_type": "code",
   "execution_count": null,
   "metadata": {
    "colab": {
     "base_uri": "https://localhost:8080/",
     "height": 316
    },
    "colab_type": "code",
    "executionInfo": {
     "elapsed": 1792,
     "status": "ok",
     "timestamp": 1577466657931,
     "user": {
      "displayName": "Min Latt",
      "photoUrl": "https://lh3.googleusercontent.com/a-/AAuE7mAlt9KMKg2D8MYHum5U8ursCUdVl9obQ-lFZgotjQ=s64",
      "userId": "09358913500386119424"
     },
     "user_tz": -390
    },
    "id": "g0zJJVaiu6En",
    "outputId": "1c0e0d0a-f474-4f76-bbc1-c3e7a80b7f55"
   },
   "outputs": [],
   "source": [
    "num_bins = 25\n",
    "\n",
    "samples_per_bin = 250 \n",
    "\n",
    "hist, bins= np.histogram(data['steering'], num_bins)  #6386 steering points will split into 25 cate\n",
    "print(len(bins))                                      #bins return from histogram is 26 length but no zero value\n",
    "\n",
    "center = (bins[:-1] + bins[1:]) * 0.5\n",
    "print(len(center))                                    #rearraged including zero\n",
    "\n",
    "plt.bar(center, hist, width=0.05)\n",
    "#plt.plot((np.min(data['steering']), np.max(data['steering'])), (200,200))\n",
    "plt.plot((-1,1),(samples_per_bin,samples_per_bin))"
   ]
  },
  {
   "cell_type": "code",
   "execution_count": null,
   "metadata": {
    "colab": {
     "base_uri": "https://localhost:8080/",
     "height": 221
    },
    "colab_type": "code",
    "executionInfo": {
     "elapsed": 1475,
     "status": "ok",
     "timestamp": 1577466663386,
     "user": {
      "displayName": "Min Latt",
      "photoUrl": "https://lh3.googleusercontent.com/a-/AAuE7mAlt9KMKg2D8MYHum5U8ursCUdVl9obQ-lFZgotjQ=s64",
      "userId": "09358913500386119424"
     },
     "user_tz": -390
    },
    "id": "PGasinp9pFpz",
    "outputId": "3789b05c-be4b-4e1a-d362-fe6565a78d0b"
   },
   "outputs": [],
   "source": [
    "print('rearraged')\n",
    "print(bins)\n",
    "print(len(bins))\n",
    "print(center)\n",
    "print(len(center))\n",
    "print(hist)\n",
    "print(len(hist))"
   ]
  },
  {
   "cell_type": "code",
   "execution_count": null,
   "metadata": {
    "colab": {
     "base_uri": "https://localhost:8080/",
     "height": 51
    },
    "colab_type": "code",
    "executionInfo": {
     "elapsed": 2224,
     "status": "ok",
     "timestamp": 1577466666384,
     "user": {
      "displayName": "Min Latt",
      "photoUrl": "https://lh3.googleusercontent.com/a-/AAuE7mAlt9KMKg2D8MYHum5U8ursCUdVl9obQ-lFZgotjQ=s64",
      "userId": "09358913500386119424"
     },
     "user_tz": -390
    },
    "id": "ne2IBXXnpxh0",
    "outputId": "9612fdff-82f2-428a-f1da-a9c20b112f8d"
   },
   "outputs": [],
   "source": [
    "#by math, middle of 25 is 13 but in list array len25 is 0 to 24 and so middle is 12\n",
    "print(hist[12])\n",
    "print(center[12])"
   ]
  },
  {
   "cell_type": "code",
   "execution_count": null,
   "metadata": {
    "colab": {
     "base_uri": "https://localhost:8080/",
     "height": 282
    },
    "colab_type": "code",
    "executionInfo": {
     "elapsed": 1892,
     "status": "ok",
     "timestamp": 1577466667854,
     "user": {
      "displayName": "Min Latt",
      "photoUrl": "https://lh3.googleusercontent.com/a-/AAuE7mAlt9KMKg2D8MYHum5U8ursCUdVl9obQ-lFZgotjQ=s64",
      "userId": "09358913500386119424"
     },
     "user_tz": -390
    },
    "id": "TYmmgU_2qECA",
    "outputId": "3536484a-278b-4240-ea4a-7ab42b5fd6d1"
   },
   "outputs": [],
   "source": [
    "plt.bar([-1,0,1],[10,5,30],0.5)\n",
    "plt.plot((-2,1.4),(10,10),color='red')"
   ]
  },
  {
   "cell_type": "code",
   "execution_count": null,
   "metadata": {
    "colab": {
     "base_uri": "https://localhost:8080/",
     "height": 119
    },
    "colab_type": "code",
    "executionInfo": {
     "elapsed": 2334,
     "status": "ok",
     "timestamp": 1577466670960,
     "user": {
      "displayName": "Min Latt",
      "photoUrl": "https://lh3.googleusercontent.com/a-/AAuE7mAlt9KMKg2D8MYHum5U8ursCUdVl9obQ-lFZgotjQ=s64",
      "userId": "09358913500386119424"
     },
     "user_tz": -390
    },
    "id": "JhbkAz_WvZwv",
    "outputId": "cd516afb-754f-4fbb-c3cb-c3878e522aad"
   },
   "outputs": [],
   "source": [
    "print(bins)\n",
    "print('total data', len(data))  #6386\n",
    "remove_list = []\n",
    "for j in range(num_bins):       #0 -> 25\n",
    "  list_ = []\n",
    "  for i in range(len(data['steering'])):   #0 -> 6386\n",
    "    if data['steering'][i] >= bins[j] and data['steering'][i] <= bins[j+1]:\n",
    "      list_.append(i)\n",
    "  list_ = shuffle(list_)          #shuffle for data stablity\n",
    "  list_ = list_[samples_per_bin:] #250 to the end **CROP\n",
    "  remove_list.extend(list_)       #like append but whole list adding\n",
    "\n",
    "print('removed' , len(remove_list))\n",
    "data.drop(data.index[remove_list], inplace=True)\n",
    "print('remaining' , len(data))\n",
    "\n",
    "hist, _ = np.histogram(data['steering'], (num_bins))\n"
   ]
  },
  {
   "cell_type": "code",
   "execution_count": null,
   "metadata": {
    "colab": {
     "base_uri": "https://localhost:8080/",
     "height": 282
    },
    "colab_type": "code",
    "executionInfo": {
     "elapsed": 669,
     "status": "ok",
     "timestamp": 1577466672558,
     "user": {
      "displayName": "Min Latt",
      "photoUrl": "https://lh3.googleusercontent.com/a-/AAuE7mAlt9KMKg2D8MYHum5U8ursCUdVl9obQ-lFZgotjQ=s64",
      "userId": "09358913500386119424"
     },
     "user_tz": -390
    },
    "id": "pUVjuv8vq-Hn",
    "outputId": "dc6ff4ac-27d2-4978-f86a-87cb46a43d9b"
   },
   "outputs": [],
   "source": [
    "plt.bar(center, hist, width=0.05)\n",
    "plt.plot((np.min(data['steering']), np.max(data['steering'])), (samples_per_bin,samples_per_bin))"
   ]
  },
  {
   "cell_type": "code",
   "execution_count": null,
   "metadata": {
    "colab": {
     "base_uri": "https://localhost:8080/",
     "height": 34
    },
    "colab_type": "code",
    "executionInfo": {
     "elapsed": 784,
     "status": "ok",
     "timestamp": 1577466676584,
     "user": {
      "displayName": "Min Latt",
      "photoUrl": "https://lh3.googleusercontent.com/a-/AAuE7mAlt9KMKg2D8MYHum5U8ursCUdVl9obQ-lFZgotjQ=s64",
      "userId": "09358913500386119424"
     },
     "user_tz": -390
    },
    "id": "58roALuL1-lE",
    "outputId": "2caada81-80e3-4ba0-82df-aa33c0f36891"
   },
   "outputs": [],
   "source": [
    "type(data.iloc[0])"
   ]
  },
  {
   "cell_type": "code",
   "execution_count": null,
   "metadata": {
    "colab": {
     "base_uri": "https://localhost:8080/",
     "height": 153
    },
    "colab_type": "code",
    "executionInfo": {
     "elapsed": 601,
     "status": "ok",
     "timestamp": 1577466677857,
     "user": {
      "displayName": "Min Latt",
      "photoUrl": "https://lh3.googleusercontent.com/a-/AAuE7mAlt9KMKg2D8MYHum5U8ursCUdVl9obQ-lFZgotjQ=s64",
      "userId": "09358913500386119424"
     },
     "user_tz": -390
    },
    "id": "KYSq2p862QOi",
    "outputId": "ea60dd21-4cb6-433a-c042-ef4aeedbd369"
   },
   "outputs": [],
   "source": [
    "data.iloc[0]"
   ]
  },
  {
   "cell_type": "code",
   "execution_count": null,
   "metadata": {
    "colab": {
     "base_uri": "https://localhost:8080/",
     "height": 34
    },
    "colab_type": "code",
    "executionInfo": {
     "elapsed": 785,
     "status": "ok",
     "timestamp": 1577466680750,
     "user": {
      "displayName": "Min Latt",
      "photoUrl": "https://lh3.googleusercontent.com/a-/AAuE7mAlt9KMKg2D8MYHum5U8ursCUdVl9obQ-lFZgotjQ=s64",
      "userId": "09358913500386119424"
     },
     "user_tz": -390
    },
    "id": "sCqy3bE029sS",
    "outputId": "3f6826c4-265e-4b8b-d58f-146a472100e5"
   },
   "outputs": [],
   "source": [
    "data.iloc[0][0]"
   ]
  },
  {
   "cell_type": "code",
   "execution_count": null,
   "metadata": {
    "colab": {
     "base_uri": "https://localhost:8080/",
     "height": 34
    },
    "colab_type": "code",
    "executionInfo": {
     "elapsed": 546,
     "status": "ok",
     "timestamp": 1577466682267,
     "user": {
      "displayName": "Min Latt",
      "photoUrl": "https://lh3.googleusercontent.com/a-/AAuE7mAlt9KMKg2D8MYHum5U8ursCUdVl9obQ-lFZgotjQ=s64",
      "userId": "09358913500386119424"
     },
     "user_tz": -390
    },
    "id": "pITmbZjz2R9g",
    "outputId": "b5fa3c1e-156e-4edf-d5f8-7e838e243361"
   },
   "outputs": [],
   "source": [
    "data.iloc[0][0].strip()"
   ]
  },
  {
   "cell_type": "code",
   "execution_count": null,
   "metadata": {
    "colab": {
     "base_uri": "https://localhost:8080/",
     "height": 34
    },
    "colab_type": "code",
    "executionInfo": {
     "elapsed": 780,
     "status": "ok",
     "timestamp": 1577466684133,
     "user": {
      "displayName": "Min Latt",
      "photoUrl": "https://lh3.googleusercontent.com/a-/AAuE7mAlt9KMKg2D8MYHum5U8ursCUdVl9obQ-lFZgotjQ=s64",
      "userId": "09358913500386119424"
     },
     "user_tz": -390
    },
    "id": "LF0siGXl3Cln",
    "outputId": "248162bb-ceae-4a51-ba91-45b720b889f0"
   },
   "outputs": [],
   "source": [
    "os.path.join(datadir+'/IMG/'+data.iloc[0][0].strip())"
   ]
  },
  {
   "cell_type": "code",
   "execution_count": null,
   "metadata": {
    "colab": {},
    "colab_type": "code",
    "id": "xPwafIiy1X07"
   },
   "outputs": [],
   "source": [
    "def load_img_steering(datadir, df):\n",
    "  image_path=[]\n",
    "  steering = []\n",
    "  for i in range(len(data)):  #0 -> 1874 dropped data\n",
    "    indexed_data = data.iloc[i]\n",
    "    center , left , right = indexed_data[0], indexed_data[1], indexed_data[2]\n",
    "    image_path.append(os.path.join(datadir+center.strip()))\n",
    "    steering.append(float(indexed_data[3]))\n",
    "  image_paths = np.asarray(image_path)\n",
    "  steerings = np.asarray(steering)\n",
    "  return image_paths, steerings\n",
    "\n",
    "image_paths , steerings = load_img_steering(datadir+'/IMG/' , data)"
   ]
  },
  {
   "cell_type": "code",
   "execution_count": null,
   "metadata": {
    "colab": {
     "base_uri": "https://localhost:8080/",
     "height": 85
    },
    "colab_type": "code",
    "executionInfo": {
     "elapsed": 766,
     "status": "ok",
     "timestamp": 1577466688897,
     "user": {
      "displayName": "Min Latt",
      "photoUrl": "https://lh3.googleusercontent.com/a-/AAuE7mAlt9KMKg2D8MYHum5U8ursCUdVl9obQ-lFZgotjQ=s64",
      "userId": "09358913500386119424"
     },
     "user_tz": -390
    },
    "id": "Bb3Ffxy94GBh",
    "outputId": "97885bb3-afd8-43ad-eb24-0144c3349b69"
   },
   "outputs": [],
   "source": [
    "print(len(image_paths))\n",
    "print(len(steerings))\n",
    "print(type(image_paths))\n",
    "print(image_paths[0])"
   ]
  },
  {
   "cell_type": "code",
   "execution_count": null,
   "metadata": {
    "colab": {
     "base_uri": "https://localhost:8080/",
     "height": 51
    },
    "colab_type": "code",
    "executionInfo": {
     "elapsed": 797,
     "status": "ok",
     "timestamp": 1577466691037,
     "user": {
      "displayName": "Min Latt",
      "photoUrl": "https://lh3.googleusercontent.com/a-/AAuE7mAlt9KMKg2D8MYHum5U8ursCUdVl9obQ-lFZgotjQ=s64",
      "userId": "09358913500386119424"
     },
     "user_tz": -390
    },
    "id": "y_CR9wJe3SDM",
    "outputId": "cd536b41-6b7a-43b0-cf03-b01da06d9ace"
   },
   "outputs": [],
   "source": [
    "X_train, X_valid , y_train, y_valid = train_test_split(image_paths, steerings, test_size=0.2, random_state=6)\n",
    "print('Training samples', len(X_train))\n",
    "print('Validation samples', len(X_valid))"
   ]
  },
  {
   "cell_type": "code",
   "execution_count": null,
   "metadata": {
    "colab": {
     "base_uri": "https://localhost:8080/",
     "height": 119
    },
    "colab_type": "code",
    "executionInfo": {
     "elapsed": 748,
     "status": "ok",
     "timestamp": 1577466702504,
     "user": {
      "displayName": "Min Latt",
      "photoUrl": "https://lh3.googleusercontent.com/a-/AAuE7mAlt9KMKg2D8MYHum5U8ursCUdVl9obQ-lFZgotjQ=s64",
      "userId": "09358913500386119424"
     },
     "user_tz": -390
    },
    "id": "M8H7_7YOnFx8",
    "outputId": "e4b8c412-c8c5-4c11-e5ec-7ef156edc85d"
   },
   "outputs": [],
   "source": [
    "print(len(X_train))\n",
    "print(len(y_train))\n",
    "print(X_train.shape)\n",
    "print(y_train.shape)\n",
    "print(type(X_train))\n",
    "print(type(y_train))"
   ]
  },
  {
   "cell_type": "code",
   "execution_count": null,
   "metadata": {
    "colab": {
     "base_uri": "https://localhost:8080/",
     "height": 298
    },
    "colab_type": "code",
    "executionInfo": {
     "elapsed": 871,
     "status": "ok",
     "timestamp": 1577466705130,
     "user": {
      "displayName": "Min Latt",
      "photoUrl": "https://lh3.googleusercontent.com/a-/AAuE7mAlt9KMKg2D8MYHum5U8ursCUdVl9obQ-lFZgotjQ=s64",
      "userId": "09358913500386119424"
     },
     "user_tz": -390
    },
    "id": "WaeZm-7R37nd",
    "outputId": "b96b6633-2381-4c54-8d2f-a438a9b6bda3"
   },
   "outputs": [],
   "source": [
    "fig , axes = plt.subplots(1, 2, figsize=(16,4))\n",
    "\n",
    "axes[0].hist(y_train, bins=num_bins, width=0.05, color='black')\n",
    "axes[0].set_title('Training Set')\n",
    "\n",
    "axes[1].hist(y_valid, bins=num_bins, width=0.05, color='darkorange')\n",
    "axes[1].set_title('Validation Set')"
   ]
  },
  {
   "cell_type": "code",
   "execution_count": null,
   "metadata": {
    "colab": {},
    "colab_type": "code",
    "id": "2qNGXj2FAn-7"
   },
   "outputs": [],
   "source": [
    "def zoom(image):\n",
    "  zoom = iaa.Affine(scale=(1, 1.3))\n",
    "  image = zoom.augment_image(image)\n",
    "  return image"
   ]
  },
  {
   "cell_type": "code",
   "execution_count": null,
   "metadata": {
    "colab": {
     "base_uri": "https://localhost:8080/",
     "height": 327
    },
    "colab_type": "code",
    "executionInfo": {
     "elapsed": 2194,
     "status": "ok",
     "timestamp": 1577466710949,
     "user": {
      "displayName": "Min Latt",
      "photoUrl": "https://lh3.googleusercontent.com/a-/AAuE7mAlt9KMKg2D8MYHum5U8ursCUdVl9obQ-lFZgotjQ=s64",
      "userId": "09358913500386119424"
     },
     "user_tz": -390
    },
    "id": "hnfGGZSdBZwr",
    "outputId": "fc8d46ec-74a9-4ce5-e3be-5fa379b1de44"
   },
   "outputs": [],
   "source": [
    "image = image_paths[random.randint(1846/2,(1846/2)+50)] #len(image_paths) 1847\n",
    "original_image = mpimg.imread(image)\n",
    "zoomed_image = zoom(original_image)\n",
    "\n",
    "fig, axes = plt.subplots(1,2,figsize=(15,10))\n",
    "fig.tight_layout()\n",
    "\n",
    "axes[0].imshow(original_image)\n",
    "axes[0].set_title('Original Image')\n",
    "\n",
    "axes[1].imshow(zoomed_image)\n",
    "axes[1].set_title('Zoomed Image')"
   ]
  },
  {
   "cell_type": "markdown",
   "metadata": {
    "colab_type": "text",
    "id": "EgbkujTfHpuv"
   },
   "source": [
    "*problem is that I did not properly collect my data*"
   ]
  },
  {
   "cell_type": "code",
   "execution_count": null,
   "metadata": {
    "colab": {},
    "colab_type": "code",
    "id": "HqC4w1bSCqVy"
   },
   "outputs": [],
   "source": [
    "def pan(image):\n",
    "   pan = iaa.Affine(translate_percent={\"x\":(-0.1, 0.1), \"y\":(-0.1,0.1)})\n",
    "   image = pan.augment_image(image)\n",
    "   return image"
   ]
  },
  {
   "cell_type": "code",
   "execution_count": null,
   "metadata": {
    "colab": {
     "base_uri": "https://localhost:8080/",
     "height": 327
    },
    "colab_type": "code",
    "executionInfo": {
     "elapsed": 2089,
     "status": "ok",
     "timestamp": 1577466715524,
     "user": {
      "displayName": "Min Latt",
      "photoUrl": "https://lh3.googleusercontent.com/a-/AAuE7mAlt9KMKg2D8MYHum5U8ursCUdVl9obQ-lFZgotjQ=s64",
      "userId": "09358913500386119424"
     },
     "user_tz": -390
    },
    "id": "iI2GmutCDXA_",
    "outputId": "ef26dc0f-1e34-4670-fdd1-0775dd18cd45"
   },
   "outputs": [],
   "source": [
    "image = image_paths[random.randint(1846/2,(1846/2)+50)]\n",
    "original_image = mpimg.imread(image)\n",
    "panned_image = pan(original_image)\n",
    "\n",
    "fig, axes = plt.subplots(1,2,figsize=(15,10))\n",
    "fig.tight_layout()\n",
    "\n",
    "axes[0].imshow(original_image)\n",
    "axes[0].set_title('Original Image')\n",
    "\n",
    "axes[1].imshow(panned_image)\n",
    "axes[1].set_title('Panned Image')"
   ]
  },
  {
   "cell_type": "code",
   "execution_count": null,
   "metadata": {
    "colab": {},
    "colab_type": "code",
    "id": "2ya59cNbDwoL"
   },
   "outputs": [],
   "source": [
    "def img_random_brightness(image):\n",
    "  brightness = iaa.Multiply((0.2, 1.2))\n",
    "  image = brightness.augment_image(image)\n",
    "  return image"
   ]
  },
  {
   "cell_type": "code",
   "execution_count": null,
   "metadata": {
    "colab": {
     "base_uri": "https://localhost:8080/",
     "height": 327
    },
    "colab_type": "code",
    "executionInfo": {
     "elapsed": 2084,
     "status": "ok",
     "timestamp": 1577466719856,
     "user": {
      "displayName": "Min Latt",
      "photoUrl": "https://lh3.googleusercontent.com/a-/AAuE7mAlt9KMKg2D8MYHum5U8ursCUdVl9obQ-lFZgotjQ=s64",
      "userId": "09358913500386119424"
     },
     "user_tz": -390
    },
    "id": "IMCC26AKEPyx",
    "outputId": "1f89e943-c425-4066-9062-8941f81f6be6"
   },
   "outputs": [],
   "source": [
    "image = image_paths[random.randint(1846/2,(1846/2)+50)]\n",
    "\n",
    "original_image = mpimg.imread(image)\n",
    "brightness_altered_image = img_random_brightness(original_image)\n",
    "\n",
    "fig, axes = plt.subplots(1,2,figsize=(15,10))\n",
    "fig.tight_layout()\n",
    "\n",
    "axes[0].imshow(original_image)\n",
    "axes[0].set_title('Original Image')\n",
    "\n",
    "axes[1].imshow(brightness_altered_image)\n",
    "axes[1].set_title('Brightness Altered Image')"
   ]
  },
  {
   "cell_type": "code",
   "execution_count": null,
   "metadata": {
    "colab": {},
    "colab_type": "code",
    "id": "5R83TTgOEsY-"
   },
   "outputs": [],
   "source": [
    "def img_random_flip(image,steering_angle):\n",
    "  image = cv2.flip(image, 1)\n",
    "  steering_angle = -steering_angle\n",
    "  return image, steering_angle"
   ]
  },
  {
   "cell_type": "code",
   "execution_count": null,
   "metadata": {
    "colab": {
     "base_uri": "https://localhost:8080/",
     "height": 327
    },
    "colab_type": "code",
    "executionInfo": {
     "elapsed": 2160,
     "status": "ok",
     "timestamp": 1577466724485,
     "user": {
      "displayName": "Min Latt",
      "photoUrl": "https://lh3.googleusercontent.com/a-/AAuE7mAlt9KMKg2D8MYHum5U8ursCUdVl9obQ-lFZgotjQ=s64",
      "userId": "09358913500386119424"
     },
     "user_tz": -390
    },
    "id": "E51-vJrKFdjd",
    "outputId": "8dca8448-1332-4c32-967b-79ac6402dec7"
   },
   "outputs": [],
   "source": [
    "random_index = random.randint(1846/2,(1846/2)+50)\n",
    "image = image_paths[random_index]\n",
    "steering_angle = steerings[random_index]\n",
    "\n",
    "original_image = mpimg.imread(image)\n",
    "flipped_image, flipped_steering = img_random_flip(original_image, steering_angle)\n",
    "\n",
    "fig, axes = plt.subplots(1,2,figsize=(15,10))\n",
    "fig.tight_layout()\n",
    "\n",
    "axes[0].imshow(original_image)\n",
    "axes[0].set_title('Original Image' + ' Steering Angle:' + str(steering_angle))\n",
    "\n",
    "axes[1].imshow(flipped_image)\n",
    "axes[1].set_title('Flipped Image' + ' Steering Angle:' + str(flipped_steering))"
   ]
  },
  {
   "cell_type": "code",
   "execution_count": null,
   "metadata": {
    "colab": {
     "base_uri": "https://localhost:8080/",
     "height": 34
    },
    "colab_type": "code",
    "executionInfo": {
     "elapsed": 605,
     "status": "ok",
     "timestamp": 1577466725796,
     "user": {
      "displayName": "Min Latt",
      "photoUrl": "https://lh3.googleusercontent.com/a-/AAuE7mAlt9KMKg2D8MYHum5U8ursCUdVl9obQ-lFZgotjQ=s64",
      "userId": "09358913500386119424"
     },
     "user_tz": -390
    },
    "id": "dm0WuD4XJIFR",
    "outputId": "5cb76391-575d-42f1-b24c-499f888f9442"
   },
   "outputs": [],
   "source": [
    "#TEST\n",
    "np.random.rand()"
   ]
  },
  {
   "cell_type": "code",
   "execution_count": null,
   "metadata": {
    "colab": {},
    "colab_type": "code",
    "id": "8Ix6cFzOHPY6"
   },
   "outputs": [],
   "source": [
    "def random_augment(image, steering_angle):\n",
    "    image = mpimg.imread(image)\n",
    "    if np.random.rand() < 0.5:\n",
    "      image = pan(image)\n",
    "    if np.random.rand() < 0.5:\n",
    "      image = zoom(image)\n",
    "    if np.random.rand() < 0.5:\n",
    "      image = img_random_brightness(image)\n",
    "    if np.random.rand() < 0.5:\n",
    "      image, steering_angle = img_random_flip(image, steering_angle)\n",
    "    \n",
    "    return image, steering_angle"
   ]
  },
  {
   "cell_type": "code",
   "execution_count": null,
   "metadata": {
    "colab": {
     "base_uri": "https://localhost:8080/",
     "height": 1000,
     "output_embedded_package_id": "1NOq5Z_MspA4Op8R1QH7yysmqIpZMPbAy"
    },
    "colab_type": "code",
    "executionInfo": {
     "elapsed": 7816,
     "status": "ok",
     "timestamp": 1577466737216,
     "user": {
      "displayName": "Min Latt",
      "photoUrl": "https://lh3.googleusercontent.com/a-/AAuE7mAlt9KMKg2D8MYHum5U8ursCUdVl9obQ-lFZgotjQ=s64",
      "userId": "09358913500386119424"
     },
     "user_tz": -390
    },
    "id": "WS13U23XIYrX",
    "outputId": "4e4c201f-e561-4c7b-f8af-2d5e111b1bca"
   },
   "outputs": [],
   "source": [
    "fig , axes = plt.subplots(nrows=10,ncols=2, figsize=(15,50))\n",
    "fig.tight_layout()\n",
    "\n",
    "for i in range(10):\n",
    "  randnum = random.randint(0,len(image_paths)-1)\n",
    "  random_image = image_paths[randnum]\n",
    "  random_steering =steerings[randnum]\n",
    "\n",
    "  original_image = mpimg.imread(random_image)\n",
    "  augmented_image , steering = random_augment(random_image, random_steering)\n",
    "\n",
    "  axes[i][0].imshow(original_image)\n",
    "  axes[i][0].set_title('Original Image')\n",
    "\n",
    "  axes[i][1].imshow(augmented_image)\n",
    "  axes[i][1].set_title('Augmented Image')"
   ]
  },
  {
   "cell_type": "code",
   "execution_count": null,
   "metadata": {
    "colab": {
     "base_uri": "https://localhost:8080/",
     "height": 34
    },
    "colab_type": "code",
    "executionInfo": {
     "elapsed": 816,
     "status": "ok",
     "timestamp": 1577466809496,
     "user": {
      "displayName": "Min Latt",
      "photoUrl": "https://lh3.googleusercontent.com/a-/AAuE7mAlt9KMKg2D8MYHum5U8ursCUdVl9obQ-lFZgotjQ=s64",
      "userId": "09358913500386119424"
     },
     "user_tz": -390
    },
    "id": "F0wqNZdOLL3t",
    "outputId": "4f35f464-7db4-4bb0-acaf-c02bb992ed5d"
   },
   "outputs": [],
   "source": [
    "image_paths[0]"
   ]
  },
  {
   "cell_type": "code",
   "execution_count": null,
   "metadata": {
    "colab": {},
    "colab_type": "code",
    "id": "mCAhZQjQ7lKm"
   },
   "outputs": [],
   "source": [
    "def img_preprocess(img):\n",
    "    img = img[60:135,:,:]\n",
    "    img = cv2.cvtColor(img, cv2.COLOR_RGB2YUV)\n",
    "    img = cv2.GaussianBlur(img,  (3, 3), 0)\n",
    "    img = cv2.resize(img, (200, 66))\n",
    "    img = img/255\n",
    "    return img"
   ]
  },
  {
   "cell_type": "code",
   "execution_count": null,
   "metadata": {
    "colab": {
     "base_uri": "https://localhost:8080/",
     "height": 327
    },
    "colab_type": "code",
    "executionInfo": {
     "elapsed": 1731,
     "status": "ok",
     "timestamp": 1577466813524,
     "user": {
      "displayName": "Min Latt",
      "photoUrl": "https://lh3.googleusercontent.com/a-/AAuE7mAlt9KMKg2D8MYHum5U8ursCUdVl9obQ-lFZgotjQ=s64",
      "userId": "09358913500386119424"
     },
     "user_tz": -390
    },
    "id": "bCMfoTaQ753z",
    "outputId": "7993cbf2-6413-440f-8b92-a5f8a18af37d"
   },
   "outputs": [],
   "source": [
    "image = image_paths[100]\n",
    "original_image = mpimg.imread(image)\n",
    "preprocessed_image = img_preprocess(original_image)\n",
    "\n",
    "fig, axes = plt.subplots(1, 2, figsize=(15, 10))\n",
    "fig.tight_layout()\n",
    "\n",
    "axes[0].imshow(original_image)\n",
    "axes[0].set_title('Original Image')\n",
    "\n",
    "axes[1].imshow(preprocessed_image)\n",
    "axes[1].set_title('Preprocesses Image')"
   ]
  },
  {
   "cell_type": "code",
   "execution_count": null,
   "metadata": {
    "colab": {},
    "colab_type": "code",
    "id": "gsNoJsOOLlRB"
   },
   "outputs": [],
   "source": [
    "def batch_generator(image_paths, steering_ang, batch_size, istraining):\n",
    "  while True:\n",
    "    batch_img = []\n",
    "    batch_steering = []\n",
    "    for i in range(batch_size):\n",
    "      random_index = random.randint(0,len(image_paths)-1)\n",
    "\n",
    "      if istraining:\n",
    "        im, steering = random_augment(image_paths[random_index], steering_ang[random_index])\n",
    "      else:\n",
    "        im = mpimg.imread(image_paths[random_index])\n",
    "        steering = steering_ang[random_index]\n",
    "      \n",
    "      im = img_preprocess(im)\n",
    "      batch_img.append(im)\n",
    "      batch_steering.append(steering)\n",
    "    yield (np.asarray(batch_img), np.asarray(batch_steering))"
   ]
  },
  {
   "cell_type": "code",
   "execution_count": null,
   "metadata": {
    "colab": {
     "base_uri": "https://localhost:8080/",
     "height": 244
    },
    "colab_type": "code",
    "executionInfo": {
     "elapsed": 1285,
     "status": "ok",
     "timestamp": 1577466824136,
     "user": {
      "displayName": "Min Latt",
      "photoUrl": "https://lh3.googleusercontent.com/a-/AAuE7mAlt9KMKg2D8MYHum5U8ursCUdVl9obQ-lFZgotjQ=s64",
      "userId": "09358913500386119424"
     },
     "user_tz": -390
    },
    "id": "gFGVtGlAOvfx",
    "outputId": "8a93c857-9cb0-470c-9859-3bb1b8e53f75"
   },
   "outputs": [],
   "source": [
    "x_train_gen, y_train_gen = next(batch_generator(X_train,y_train, 1, 1))\n",
    "x_valid_gen, y_valid_gen = next(batch_generator(X_valid,y_valid, 1, 0))\n",
    "\n",
    "fig, axes = plt.subplots(1,2,figsize=(15,10))\n",
    "fig.tight_layout()\n",
    "\n",
    "axes[0].imshow(x_train_gen[0])\n",
    "axes[0].set_title('x_train_gen')\n",
    "\n",
    "axes[1].imshow(x_valid_gen[0])\n",
    "axes[1].set_title('x_valid_gen')\n"
   ]
  },
  {
   "cell_type": "code",
   "execution_count": null,
   "metadata": {
    "colab": {},
    "colab_type": "code",
    "id": "jEYIEvOZ-aWc"
   },
   "outputs": [],
   "source": [
    "#X_train = np.array(list(map(img_preprocess, X_train)))\n",
    "#X_valid = np.array(list(map(img_preprocess, X_valid)))\n",
    "#plt.imshow(X_train[random.randint(0,len(X_train)-1)])\n",
    "#plt.axis('off')\n",
    "#print(X_train.shape)"
   ]
  },
  {
   "cell_type": "code",
   "execution_count": null,
   "metadata": {
    "colab": {},
    "colab_type": "code",
    "id": "u2uRMOsG_HOC"
   },
   "outputs": [],
   "source": [
    "def nvidia_model():\n",
    "  model = Sequential()\n",
    "  model.add(Convolution2D(24, 5, 5, subsample=(2,2), input_shape=(66,200,3) , activation='elu' ))\n",
    "  model.add(Convolution2D(36, 5 ,5, subsample=(2,2), activation='elu'))\n",
    "  model.add(Convolution2D(48, 5 ,5, subsample=(2,2), activation='elu'))\n",
    "  model.add(Convolution2D(64, 3 ,3, activation='elu'))\n",
    "  model.add(Convolution2D(64, 3 ,3, activation='elu'))\n",
    "  #model.add(Dropout(0.5))\n",
    "\n",
    "  model.add(Flatten())\n",
    "\n",
    "  model.add(Dense(100, activation='elu'))\n",
    "  #model.add(Dropout(0.5))\n",
    "\n",
    "  model.add(Dense(50, activation='elu'))\n",
    "  #model.add(Dropout(0.5))\n",
    "\n",
    "  model.add(Dense(10, activation='elu'))\n",
    "  #model.add(Dropout(0.5))\n",
    "  \n",
    "  model.add(Dense(1))\n",
    "\n",
    "  optimizer = Adam(lr = 1e-4)\n",
    "  model.compile(loss='mse', optimizer=optimizer)\n",
    "  \n",
    "  return model"
   ]
  },
  {
   "cell_type": "code",
   "execution_count": null,
   "metadata": {
    "colab": {
     "base_uri": "https://localhost:8080/",
     "height": 836
    },
    "colab_type": "code",
    "executionInfo": {
     "elapsed": 722,
     "status": "ok",
     "timestamp": 1577466830619,
     "user": {
      "displayName": "Min Latt",
      "photoUrl": "https://lh3.googleusercontent.com/a-/AAuE7mAlt9KMKg2D8MYHum5U8ursCUdVl9obQ-lFZgotjQ=s64",
      "userId": "09358913500386119424"
     },
     "user_tz": -390
    },
    "id": "M1Rsohg8D81v",
    "outputId": "ba2a4099-815f-41d0-b395-f197f41cf9ca"
   },
   "outputs": [],
   "source": [
    "model = nvidia_model()\n",
    "print(model.summary())"
   ]
  },
  {
   "cell_type": "code",
   "execution_count": null,
   "metadata": {
    "colab": {
     "base_uri": "https://localhost:8080/",
     "height": 649
    },
    "colab_type": "code",
    "executionInfo": {
     "elapsed": 1709059,
     "status": "ok",
     "timestamp": 1577468543343,
     "user": {
      "displayName": "Min Latt",
      "photoUrl": "https://lh3.googleusercontent.com/a-/AAuE7mAlt9KMKg2D8MYHum5U8ursCUdVl9obQ-lFZgotjQ=s64",
      "userId": "09358913500386119424"
     },
     "user_tz": -390
    },
    "id": "PmvxZjjNEGgD",
    "outputId": "393fcdc1-41e5-4dd9-b077-6173ee22a7f7"
   },
   "outputs": [],
   "source": [
    "history = model.fit_generator(batch_generator(X_train, y_train, 100, 1 ),\n",
    "                              steps_per_epoch=300,\n",
    "                              epochs=10,\n",
    "                              validation_data=batch_generator(X_valid, y_valid, 100, 0),\n",
    "                              validation_steps=200,\n",
    "                              verbose=1,\n",
    "                              shuffle=1)"
   ]
  },
  {
   "cell_type": "code",
   "execution_count": null,
   "metadata": {
    "colab": {
     "base_uri": "https://localhost:8080/",
     "height": 312
    },
    "colab_type": "code",
    "executionInfo": {
     "elapsed": 773,
     "status": "ok",
     "timestamp": 1577468786068,
     "user": {
      "displayName": "Min Latt",
      "photoUrl": "https://lh3.googleusercontent.com/a-/AAuE7mAlt9KMKg2D8MYHum5U8ursCUdVl9obQ-lFZgotjQ=s64",
      "userId": "09358913500386119424"
     },
     "user_tz": -390
    },
    "id": "otunLHzbM3TH",
    "outputId": "1c5c73a0-cb1b-4949-c64e-0816ffb1ab93"
   },
   "outputs": [],
   "source": [
    "plt.plot(history.history['loss'])\n",
    "plt.plot(history.history['val_loss'])\n",
    "plt.legend(['loss', 'val_loss'])\n",
    "plt.title('Loss')\n",
    "plt.xlabel('epoch')"
   ]
  },
  {
   "cell_type": "code",
   "execution_count": null,
   "metadata": {
    "colab": {},
    "colab_type": "code",
    "id": "pqhBRCwMPLGV"
   },
   "outputs": [],
   "source": [
    "model.save('road_model_gpu_amer.h5')"
   ]
  },
  {
   "cell_type": "code",
   "execution_count": null,
   "metadata": {
    "colab": {},
    "colab_type": "code",
    "id": "LgkkLXR7PVdU"
   },
   "outputs": [],
   "source": [
    "#!ls"
   ]
  },
  {
   "cell_type": "code",
   "execution_count": null,
   "metadata": {
    "colab": {
     "base_uri": "https://localhost:8080/",
     "height": 323
    },
    "colab_type": "code",
    "executionInfo": {
     "elapsed": 1692387,
     "status": "error",
     "timestamp": 1577468550106,
     "user": {
      "displayName": "Min Latt",
      "photoUrl": "https://lh3.googleusercontent.com/a-/AAuE7mAlt9KMKg2D8MYHum5U8ursCUdVl9obQ-lFZgotjQ=s64",
      "userId": "09358913500386119424"
     },
     "user_tz": -390
    },
    "id": "j2liRJmJPWTM",
    "outputId": "b1c879af-6a2f-406f-dfae-00c6aefb55f8"
   },
   "outputs": [],
   "source": [
    "from google.colab import files\n",
    "files.download('road_model_gpu_amer.h5')"
   ]
  },
  {
   "cell_type": "code",
   "execution_count": null,
   "metadata": {
    "colab": {},
    "colab_type": "code",
    "id": "HK5PjNedPl1k"
   },
   "outputs": [],
   "source": [
    "print('DONE!')"
   ]
  }
 ],
 "metadata": {
  "accelerator": "GPU",
  "colab": {
   "collapsed_sections": [],
   "name": "BEHAVIOURAL_CLONING.ipynb",
   "provenance": []
  },
  "kernelspec": {
   "display_name": "Python 3",
   "language": "python",
   "name": "python3"
  },
  "language_info": {
   "codemirror_mode": {
    "name": "ipython",
    "version": 3
   },
   "file_extension": ".py",
   "mimetype": "text/x-python",
   "name": "python",
   "nbconvert_exporter": "python",
   "pygments_lexer": "ipython3",
   "version": "3.6.10"
  }
 },
 "nbformat": 4,
 "nbformat_minor": 4
}
