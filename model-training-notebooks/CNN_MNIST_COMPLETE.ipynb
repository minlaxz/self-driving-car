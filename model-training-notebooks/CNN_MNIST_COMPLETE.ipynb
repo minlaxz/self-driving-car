{
 "cells": [
  {
   "cell_type": "code",
   "execution_count": 1,
   "metadata": {
    "colab": {
     "base_uri": "https://localhost:8080/",
     "height": 97
    },
    "colab_type": "code",
    "executionInfo": {
     "elapsed": 3241,
     "status": "ok",
     "timestamp": 1575209961365,
     "user": {
      "displayName": "Min Latt",
      "photoUrl": "https://lh3.googleusercontent.com/a-/AAuE7mAlt9KMKg2D8MYHum5U8ursCUdVl9obQ-lFZgotjQ=s64",
      "userId": "09358913500386119424"
     },
     "user_tz": -390
    },
    "id": "Lydy5nmVqIk9",
    "outputId": "a177adb4-f5bd-4be4-fcc8-887d4e824fbb"
   },
   "outputs": [
    {
     "name": "stderr",
     "output_type": "stream",
     "text": [
      "Using TensorFlow backend.\n"
     ]
    }
   ],
   "source": [
    "import numpy as np\n",
    "from keras.datasets import mnist\n",
    "from keras.models import Sequential\n",
    "from keras.layers import Dense\n",
    "from keras.optimizers import Adam\n",
    "from keras.utils import to_categorical #cate all\n",
    "from keras.models import Model\n",
    "from keras.layers import Flatten\n",
    "from keras.layers.convolutional import Conv2D\n",
    "from keras.layers.convolutional import MaxPooling2D\n",
    "from keras.layers import Dropout\n",
    "import matplotlib.pyplot as plt"
   ]
  },
  {
   "cell_type": "code",
   "execution_count": 2,
   "metadata": {
    "colab": {
     "base_uri": "https://localhost:8080/",
     "height": 51
    },
    "colab_type": "code",
    "executionInfo": {
     "elapsed": 4365,
     "status": "ok",
     "timestamp": 1575209962495,
     "user": {
      "displayName": "Min Latt",
      "photoUrl": "https://lh3.googleusercontent.com/a-/AAuE7mAlt9KMKg2D8MYHum5U8ursCUdVl9obQ-lFZgotjQ=s64",
      "userId": "09358913500386119424"
     },
     "user_tz": -390
    },
    "id": "ZeYUx5XdqIlI",
    "outputId": "c6b01f73-05f0-4399-890c-2e81159a3dc7"
   },
   "outputs": [],
   "source": [
    "(X_train, y_train), (X_test, y_test) = mnist.load_data()"
   ]
  },
  {
   "cell_type": "code",
   "execution_count": 3,
   "metadata": {
    "colab": {
     "base_uri": "https://localhost:8080/",
     "height": 85
    },
    "colab_type": "code",
    "executionInfo": {
     "elapsed": 4353,
     "status": "ok",
     "timestamp": 1575209962498,
     "user": {
      "displayName": "Min Latt",
      "photoUrl": "https://lh3.googleusercontent.com/a-/AAuE7mAlt9KMKg2D8MYHum5U8ursCUdVl9obQ-lFZgotjQ=s64",
      "userId": "09358913500386119424"
     },
     "user_tz": -390
    },
    "id": "-ZybXBKTqIlK",
    "outputId": "8fef47ca-9e06-4e56-c530-3f334cba85c1"
   },
   "outputs": [
    {
     "name": "stdout",
     "output_type": "stream",
     "text": [
      "(60000, 28, 28)\n",
      "(10000, 28, 28)\n",
      "(60000,)\n",
      "(10000,)\n"
     ]
    }
   ],
   "source": [
    "print(X_train.shape)\n",
    "print(X_test.shape)\n",
    "print(y_train.shape)\n",
    "print(y_test.shape)"
   ]
  },
  {
   "cell_type": "code",
   "execution_count": 4,
   "metadata": {
    "colab": {
     "base_uri": "https://localhost:8080/",
     "height": 282
    },
    "colab_type": "code",
    "executionInfo": {
     "elapsed": 4341,
     "status": "ok",
     "timestamp": 1575209962500,
     "user": {
      "displayName": "Min Latt",
      "photoUrl": "https://lh3.googleusercontent.com/a-/AAuE7mAlt9KMKg2D8MYHum5U8ursCUdVl9obQ-lFZgotjQ=s64",
      "userId": "09358913500386119424"
     },
     "user_tz": -390
    },
    "id": "oiKAYOFdqIlN",
    "outputId": "792c1f1e-fdef-4f6a-a1c9-ccaf7009fa28"
   },
   "outputs": [
    {
     "data": {
      "text/plain": [
       "<matplotlib.image.AxesImage at 0x7fc4ec3bf320>"
      ]
     },
     "execution_count": 4,
     "metadata": {},
     "output_type": "execute_result"
    },
    {
     "data": {
      "image/png": "[encoded data removed]",
      "text/plain": [
       "<Figure size 432x288 with 1 Axes>"
      ]
     },
     "metadata": {
      "needs_background": "light"
     },
     "output_type": "display_data"
    }
   ],
   "source": [
    "plt.imshow(X_train[y_train == 9][0], cmap='gray')"
   ]
  },
  {
   "cell_type": "code",
   "execution_count": 5,
   "metadata": {
    "colab": {},
    "colab_type": "code",
    "id": "1J8mxvXHqIlP"
   },
   "outputs": [],
   "source": [
    "samples = []\n",
    "for i in range(10):\n",
    "    samples.append((X_train[y_train==i]).shape[0])"
   ]
  },
  {
   "cell_type": "code",
   "execution_count": 6,
   "metadata": {
    "colab": {
     "base_uri": "https://localhost:8080/",
     "height": 34
    },
    "colab_type": "code",
    "executionInfo": {
     "elapsed": 4327,
     "status": "ok",
     "timestamp": 1575209962503,
     "user": {
      "displayName": "Min Latt",
      "photoUrl": "https://lh3.googleusercontent.com/a-/AAuE7mAlt9KMKg2D8MYHum5U8ursCUdVl9obQ-lFZgotjQ=s64",
      "userId": "09358913500386119424"
     },
     "user_tz": -390
    },
    "id": "cNRJ8cgWqIlR",
    "outputId": "734f54bf-06ac-44da-bf44-b179fab94742"
   },
   "outputs": [
    {
     "data": {
      "text/plain": [
       "[5923, 6742, 5958, 6131, 5842, 5421, 5918, 6265, 5851, 5949]"
      ]
     },
     "execution_count": 6,
     "metadata": {},
     "output_type": "execute_result"
    }
   ],
   "source": [
    "samples"
   ]
  },
  {
   "cell_type": "code",
   "execution_count": 7,
   "metadata": {
    "colab": {
     "base_uri": "https://localhost:8080/",
     "height": 282
    },
    "colab_type": "code",
    "executionInfo": {
     "elapsed": 5107,
     "status": "ok",
     "timestamp": 1575209963297,
     "user": {
      "displayName": "Min Latt",
      "photoUrl": "https://lh3.googleusercontent.com/a-/AAuE7mAlt9KMKg2D8MYHum5U8ursCUdVl9obQ-lFZgotjQ=s64",
      "userId": "09358913500386119424"
     },
     "user_tz": -390
    },
    "id": "udRTP199qIlT",
    "outputId": "4cd932a6-4ad6-4af8-9180-bb3ba9bf37f3"
   },
   "outputs": [
    {
     "data": {
      "text/plain": [
       "<matplotlib.image.AxesImage at 0x7fc4ee83fb38>"
      ]
     },
     "execution_count": 7,
     "metadata": {},
     "output_type": "execute_result"
    },
    {
     "data": {
      "image/png": "[encoded data removed]",
      "text/plain": [
       "<Figure size 432x288 with 1 Axes>"
      ]
     },
     "metadata": {
      "needs_background": "light"
     },
     "output_type": "display_data"
    }
   ],
   "source": [
    "plt.imshow(X_train[y_train == 9][5948], cmap='gray')"
   ]
  },
  {
   "cell_type": "code",
   "execution_count": 8,
   "metadata": {
    "colab": {
     "base_uri": "https://localhost:8080/",
     "height": 34
    },
    "colab_type": "code",
    "executionInfo": {
     "elapsed": 5096,
     "status": "ok",
     "timestamp": 1575209963298,
     "user": {
      "displayName": "Min Latt",
      "photoUrl": "https://lh3.googleusercontent.com/a-/AAuE7mAlt9KMKg2D8MYHum5U8ursCUdVl9obQ-lFZgotjQ=s64",
      "userId": "09358913500386119424"
     },
     "user_tz": -390
    },
    "id": "Ta8xyH67qIlV",
    "outputId": "01fd78e3-4062-4eee-d068-d3c923f4563c"
   },
   "outputs": [
    {
     "data": {
      "text/plain": [
       "array([9, 2, 9, 5, 1, 8, 3, 5, 6], dtype=uint8)"
      ]
     },
     "execution_count": 8,
     "metadata": {},
     "output_type": "execute_result"
    }
   ],
   "source": [
    "y_train[59990:59999]"
   ]
  },
  {
   "cell_type": "code",
   "execution_count": 9,
   "metadata": {
    "colab": {
     "base_uri": "https://localhost:8080/",
     "height": 51
    },
    "colab_type": "code",
    "executionInfo": {
     "elapsed": 5084,
     "status": "ok",
     "timestamp": 1575209963300,
     "user": {
      "displayName": "Min Latt",
      "photoUrl": "https://lh3.googleusercontent.com/a-/AAuE7mAlt9KMKg2D8MYHum5U8ursCUdVl9obQ-lFZgotjQ=s64",
      "userId": "09358913500386119424"
     },
     "user_tz": -390
    },
    "id": "tZWLLP98qIlZ",
    "outputId": "f963fbd4-4fbf-4a90-ee8d-812ae7e1b1ad"
   },
   "outputs": [
    {
     "name": "stdout",
     "output_type": "stream",
     "text": [
      "(60000,)\n",
      "(10000,)\n"
     ]
    }
   ],
   "source": [
    "print(y_train.shape)\n",
    "print(y_test.shape)"
   ]
  },
  {
   "cell_type": "code",
   "execution_count": 10,
   "metadata": {
    "colab": {
     "base_uri": "https://localhost:8080/",
     "height": 34
    },
    "colab_type": "code",
    "executionInfo": {
     "elapsed": 5072,
     "status": "ok",
     "timestamp": 1575209963301,
     "user": {
      "displayName": "Min Latt",
      "photoUrl": "https://lh3.googleusercontent.com/a-/AAuE7mAlt9KMKg2D8MYHum5U8ursCUdVl9obQ-lFZgotjQ=s64",
      "userId": "09358913500386119424"
     },
     "user_tz": -390
    },
    "id": "iWoQTXrZqIla",
    "outputId": "e92b7cc0-3a73-4e95-9bc4-cb31ae6cfc42"
   },
   "outputs": [
    {
     "data": {
      "text/plain": [
       "array([9, 2, 9, 5, 1, 8, 3, 5, 6], dtype=uint8)"
      ]
     },
     "execution_count": 10,
     "metadata": {},
     "output_type": "execute_result"
    }
   ],
   "source": [
    "y_train[59990:59999]"
   ]
  },
  {
   "cell_type": "code",
   "execution_count": 11,
   "metadata": {
    "colab": {
     "base_uri": "https://localhost:8080/",
     "height": 51
    },
    "colab_type": "code",
    "executionInfo": {
     "elapsed": 5060,
     "status": "ok",
     "timestamp": 1575209963303,
     "user": {
      "displayName": "Min Latt",
      "photoUrl": "https://lh3.googleusercontent.com/a-/AAuE7mAlt9KMKg2D8MYHum5U8ursCUdVl9obQ-lFZgotjQ=s64",
      "userId": "09358913500386119424"
     },
     "user_tz": -390
    },
    "id": "bM2iDrkIqIle",
    "outputId": "cc1c0787-1c70-435f-f6e3-befdc51c317a"
   },
   "outputs": [
    {
     "name": "stdout",
     "output_type": "stream",
     "text": [
      "(60000, 28, 28, 1)\n",
      "(10000, 28, 28, 1)\n"
     ]
    }
   ],
   "source": [
    "# flatten\n",
    "y_train = to_categorical(y_train,10)\n",
    "y_test = to_categorical(y_test,10)\n",
    "X_train = X_train.reshape(60000,28,28,1)\n",
    "X_test = X_test.reshape(10000,28,28,1)\n",
    "print(X_train.shape)\n",
    "print(X_test.shape)\n",
    "\n",
    "X_train = X_train/255\n",
    "X_test = X_test/255\n"
   ]
  },
  {
   "cell_type": "code",
   "execution_count": 12,
   "metadata": {
    "colab": {},
    "colab_type": "code",
    "id": "WsHaHaNer-Z3"
   },
   "outputs": [],
   "source": [
    "def LeNet_model():\n",
    "    model = Sequential()\n",
    "    model.add(Conv2D(30, (5,5) , input_shape=(28,28,1), activation='relu'))\n",
    "    model.add(MaxPooling2D(pool_size=(2,2)))\n",
    "    model.add(Conv2D(15, (3,3), activation='relu'))\n",
    "    model.add(MaxPooling2D(pool_size=(2,2)))\n",
    "    model.add(Flatten())\n",
    "    model.add(Dense(500, activation='relu'))\n",
    "    model.add(Dropout(0.5))\n",
    "    model.add(Dense(10, activation='softmax'))\n",
    "    model.compile(Adam(lr=0.01), loss='categorical_crossentropy', metrics=['accuracy'])\n",
    "    return model"
   ]
  },
  {
   "cell_type": "code",
   "execution_count": 13,
   "metadata": {
    "colab": {},
    "colab_type": "code",
    "id": "5PeGLeL6CGMJ"
   },
   "outputs": [],
   "source": [
    "# define the larger model\n",
    "def leNet_model():\n",
    "  # create model\n",
    "  model = Sequential()\n",
    "  model.add(Conv2D(30, (5, 5), input_shape=(28, 28, 1), activation='relu'))\n",
    "  model.add(MaxPooling2D(pool_size=(2, 2)))\n",
    "  \n",
    "  model.add(Conv2D(15, (3, 3), activation='relu'))\n",
    "  model.add(MaxPooling2D(pool_size=(2, 2)))\n",
    "  \n",
    "  model.add(Flatten())\n",
    "  model.add(Dense(500, activation='relu'))\n",
    "  model.add(Dropout(0.5))\n",
    "  model.add(Dense(10, activation='softmax'))\n",
    "  # Compile model\n",
    "  model.compile(Adam(lr = 0.01), loss='categorical_crossentropy', metrics=['accuracy'])\n",
    "  return model"
   ]
  },
  {
   "cell_type": "code",
   "execution_count": 14,
   "metadata": {
    "colab": {
     "base_uri": "https://localhost:8080/",
     "height": 751
    },
    "colab_type": "code",
    "executionInfo": {
     "elapsed": 5046,
     "status": "ok",
     "timestamp": 1575209963308,
     "user": {
      "displayName": "Min Latt",
      "photoUrl": "https://lh3.googleusercontent.com/a-/AAuE7mAlt9KMKg2D8MYHum5U8ursCUdVl9obQ-lFZgotjQ=s64",
      "userId": "09358913500386119424"
     },
     "user_tz": -390
    },
    "id": "MFnIYqkVrQv5",
    "outputId": "d3656251-4d9e-42de-8aea-48d37b4097ea"
   },
   "outputs": [
    {
     "name": "stdout",
     "output_type": "stream",
     "text": [
      "Model: \"sequential_1\"\n",
      "_________________________________________________________________\n",
      "Layer (type)                 Output Shape              Param #   \n",
      "=================================================================\n",
      "conv2d_1 (Conv2D)            (None, 24, 24, 30)        780       \n",
      "_________________________________________________________________\n",
      "max_pooling2d_1 (MaxPooling2 (None, 12, 12, 30)        0         \n",
      "_________________________________________________________________\n",
      "conv2d_2 (Conv2D)            (None, 10, 10, 15)        4065      \n",
      "_________________________________________________________________\n",
      "max_pooling2d_2 (MaxPooling2 (None, 5, 5, 15)          0         \n",
      "_________________________________________________________________\n",
      "flatten_1 (Flatten)          (None, 375)               0         \n",
      "_________________________________________________________________\n",
      "dense_1 (Dense)              (None, 500)               188000    \n",
      "_________________________________________________________________\n",
      "dropout_1 (Dropout)          (None, 500)               0         \n",
      "_________________________________________________________________\n",
      "dense_2 (Dense)              (None, 10)                5010      \n",
      "=================================================================\n",
      "Total params: 197,855\n",
      "Trainable params: 197,855\n",
      "Non-trainable params: 0\n",
      "_________________________________________________________________\n",
      "None\n"
     ]
    }
   ],
   "source": [
    "model = LeNet_model()\n",
    "print(model.summary())"
   ]
  },
  {
   "cell_type": "code",
   "execution_count": 15,
   "metadata": {
    "colab": {
     "base_uri": "https://localhost:8080/",
     "height": 717
    },
    "colab_type": "code",
    "executionInfo": {
     "elapsed": 37386,
     "status": "ok",
     "timestamp": 1575209995661,
     "user": {
      "displayName": "Min Latt",
      "photoUrl": "https://lh3.googleusercontent.com/a-/AAuE7mAlt9KMKg2D8MYHum5U8ursCUdVl9obQ-lFZgotjQ=s64",
      "userId": "09358913500386119424"
     },
     "user_tz": -390
    },
    "id": "FoQ-a7yRqIll",
    "outputId": "0456ad1c-e0d1-4cd5-f59b-b26b4952d968"
   },
   "outputs": [
    {
     "name": "stdout",
     "output_type": "stream",
     "text": [
      "Train on 54000 samples, validate on 6000 samples\n",
      "Epoch 1/10\n",
      "54000/54000 [==============================] - 33s 605us/step - loss: 0.2099 - accuracy: 0.9311 - val_loss: 0.0463 - val_accuracy: 0.9862\n",
      "Epoch 2/10\n",
      "54000/54000 [==============================] - 31s 573us/step - loss: 0.0679 - accuracy: 0.9794 - val_loss: 0.0401 - val_accuracy: 0.9890\n",
      "Epoch 3/10\n",
      "54000/54000 [==============================] - 31s 575us/step - loss: 0.0545 - accuracy: 0.9831 - val_loss: 0.0413 - val_accuracy: 0.9893\n",
      "Epoch 4/10\n",
      "54000/54000 [==============================] - 31s 579us/step - loss: 0.0513 - accuracy: 0.9843 - val_loss: 0.0401 - val_accuracy: 0.9888\n",
      "Epoch 5/10\n",
      "54000/54000 [==============================] - 35s 652us/step - loss: 0.0432 - accuracy: 0.9869 - val_loss: 0.0404 - val_accuracy: 0.9887\n",
      "Epoch 6/10\n",
      "54000/54000 [==============================] - 34s 636us/step - loss: 0.0450 - accuracy: 0.9860 - val_loss: 0.0536 - val_accuracy: 0.9860\n",
      "Epoch 7/10\n",
      "54000/54000 [==============================] - 35s 651us/step - loss: 0.0425 - accuracy: 0.9874 - val_loss: 0.0439 - val_accuracy: 0.9905\n",
      "Epoch 8/10\n",
      "54000/54000 [==============================] - 37s 693us/step - loss: 0.0371 - accuracy: 0.9891 - val_loss: 0.0456 - val_accuracy: 0.9892\n",
      "Epoch 9/10\n",
      "54000/54000 [==============================] - 34s 628us/step - loss: 0.0377 - accuracy: 0.9887 - val_loss: 0.0427 - val_accuracy: 0.9888\n",
      "Epoch 10/10\n",
      "54000/54000 [==============================] - 32s 595us/step - loss: 0.0341 - accuracy: 0.9895 - val_loss: 0.0535 - val_accuracy: 0.9892\n"
     ]
    }
   ],
   "source": [
    "history = model.fit(X_train, y_train, epochs=10,  validation_split = 0.1, batch_size = 400, verbose = 1, shuffle = 1)"
   ]
  },
  {
   "cell_type": "code",
   "execution_count": 16,
   "metadata": {
    "colab": {
     "base_uri": "https://localhost:8080/",
     "height": 312
    },
    "colab_type": "code",
    "executionInfo": {
     "elapsed": 38626,
     "status": "ok",
     "timestamp": 1575209996906,
     "user": {
      "displayName": "Min Latt",
      "photoUrl": "https://lh3.googleusercontent.com/a-/AAuE7mAlt9KMKg2D8MYHum5U8ursCUdVl9obQ-lFZgotjQ=s64",
      "userId": "09358913500386119424"
     },
     "user_tz": -390
    },
    "id": "hJcM8t68qIln",
    "outputId": "e94f1008-0794-45b5-9df2-f2f0c58c38d0"
   },
   "outputs": [
    {
     "data": {
      "text/plain": [
       "Text(0.5, 0, 'epoch')"
      ]
     },
     "execution_count": 16,
     "metadata": {},
     "output_type": "execute_result"
    },
    {
     "data": {
      "image/png": "[encoded data removed]",
      "text/plain": [
       "<Figure size 432x288 with 1 Axes>"
      ]
     },
     "metadata": {
      "needs_background": "light"
     },
     "output_type": "display_data"
    }
   ],
   "source": [
    "plt.plot(history.history['loss'])\n",
    "plt.plot(history.history['val_loss'])\n",
    "plt.legend(['loss', 'val_loss'])\n",
    "plt.title('Loss')\n",
    "plt.xlabel('epoch')"
   ]
  },
  {
   "cell_type": "code",
   "execution_count": 17,
   "metadata": {
    "colab": {
     "base_uri": "https://localhost:8080/",
     "height": 312
    },
    "colab_type": "code",
    "executionInfo": {
     "elapsed": 38626,
     "status": "ok",
     "timestamp": 1575209996908,
     "user": {
      "displayName": "Min Latt",
      "photoUrl": "https://lh3.googleusercontent.com/a-/AAuE7mAlt9KMKg2D8MYHum5U8ursCUdVl9obQ-lFZgotjQ=s64",
      "userId": "09358913500386119424"
     },
     "user_tz": -390
    },
    "id": "A17KywJLqIlo",
    "outputId": "a6ab3e88-410a-465e-8f4e-680ea8b2bc71"
   },
   "outputs": [
    {
     "data": {
      "text/plain": [
       "Text(0.5, 0, 'epoch')"
      ]
     },
     "execution_count": 17,
     "metadata": {},
     "output_type": "execute_result"
    },
    {
     "data": {
      "image/png": "[encoded data removed]",
      "text/plain": [
       "<Figure size 432x288 with 1 Axes>"
      ]
     },
     "metadata": {
      "needs_background": "light"
     },
     "output_type": "display_data"
    }
   ],
   "source": [
    "plt.plot(history.history['accuracy'])\n",
    "plt.plot(history.history['val_accuracy'])\n",
    "plt.legend(['acc', 'val_acc'])\n",
    "plt.title('Accuracy')\n",
    "plt.xlabel('epoch')"
   ]
  },
  {
   "cell_type": "code",
   "execution_count": 18,
   "metadata": {
    "colab": {
     "base_uri": "https://localhost:8080/",
     "height": 51
    },
    "colab_type": "code",
    "executionInfo": {
     "elapsed": 39023,
     "status": "ok",
     "timestamp": 1575209997308,
     "user": {
      "displayName": "Min Latt",
      "photoUrl": "https://lh3.googleusercontent.com/a-/AAuE7mAlt9KMKg2D8MYHum5U8ursCUdVl9obQ-lFZgotjQ=s64",
      "userId": "09358913500386119424"
     },
     "user_tz": -390
    },
    "id": "MEuTusvmy1Az",
    "outputId": "73ed023c-b89a-4196-aaaa-81ce8726acf7"
   },
   "outputs": [
    {
     "name": "stdout",
     "output_type": "stream",
     "text": [
      "Test score: 0.036206658560092024\n",
      "Test accuracy: 0.9904000163078308\n"
     ]
    }
   ],
   "source": [
    "score = model.evaluate(X_test, y_test, verbose=0)\n",
    "\n",
    "print('Test score:', score[0])\n",
    "print('Test accuracy:', score[1])"
   ]
  },
  {
   "cell_type": "code",
   "execution_count": 19,
   "metadata": {
    "colab": {
     "base_uri": "https://localhost:8080/",
     "height": 286
    },
    "colab_type": "code",
    "executionInfo": {
     "elapsed": 40619,
     "status": "ok",
     "timestamp": 1575209998907,
     "user": {
      "displayName": "Min Latt",
      "photoUrl": "https://lh3.googleusercontent.com/a-/AAuE7mAlt9KMKg2D8MYHum5U8ursCUdVl9obQ-lFZgotjQ=s64",
      "userId": "09358913500386119424"
     },
     "user_tz": -390
    },
    "id": "DBlm5jOqqIlv",
    "outputId": "172a62a3-06f3-4678-cba7-dd66526bb5bd"
   },
   "outputs": [
    {
     "data": {
      "text/plain": [
       "<matplotlib.image.AxesImage at 0x7fc4681262e8>"
      ]
     },
     "execution_count": 19,
     "metadata": {},
     "output_type": "execute_result"
    },
    {
     "data": {
      "image/png": "[encoded data removed]",
      "text/plain": [
       "<Figure size 432x288 with 1 Axes>"
      ]
     },
     "metadata": {
      "needs_background": "light"
     },
     "output_type": "display_data"
    }
   ],
   "source": [
    "import requests\n",
    "from PIL import Image\n",
    "url = 'https://www.researchgate.net/profile/Jose_Sempere/publication/221258631/figure/fig1/AS:305526891139075@1449854695342/Handwritten-digit-2.png'\n",
    "response = requests.get(url, stream=True)\n",
    "img = Image.open(response.raw)\n",
    "\n",
    "plt.imshow(img)"
   ]
  },
  {
   "cell_type": "code",
   "execution_count": 20,
   "metadata": {
    "colab": {
     "base_uri": "https://localhost:8080/",
     "height": 282
    },
    "colab_type": "code",
    "executionInfo": {
     "elapsed": 40617,
     "status": "ok",
     "timestamp": 1575209998909,
     "user": {
      "displayName": "Min Latt",
      "photoUrl": "https://lh3.googleusercontent.com/a-/AAuE7mAlt9KMKg2D8MYHum5U8ursCUdVl9obQ-lFZgotjQ=s64",
      "userId": "09358913500386119424"
     },
     "user_tz": -390
    },
    "id": "8MlSO-WqqIlx",
    "outputId": "b266f370-e2c6-4406-da8b-9a15382fb1a8"
   },
   "outputs": [
    {
     "data": {
      "text/plain": [
       "<matplotlib.image.AxesImage at 0x7fc4113effd0>"
      ]
     },
     "execution_count": 20,
     "metadata": {},
     "output_type": "execute_result"
    },
    {
     "data": {
      "image/png": "[encoded data removed]",
      "text/plain": [
       "<Figure size 432x288 with 1 Axes>"
      ]
     },
     "metadata": {
      "needs_background": "light"
     },
     "output_type": "display_data"
    }
   ],
   "source": [
    "import cv2\n",
    "\n",
    "img_arr = np.asarray(img)\n",
    "resize = cv2.resize(img_arr, (28,28))\n",
    "gray = cv2.cvtColor(resize, cv2.COLOR_RGB2GRAY)\n",
    "image = cv2.bitwise_not(gray)\n",
    "plt.imshow(image, cmap='gray')"
   ]
  },
  {
   "cell_type": "code",
   "execution_count": 21,
   "metadata": {
    "colab": {},
    "colab_type": "code",
    "id": "e8nCo_YHqIlz"
   },
   "outputs": [],
   "source": [
    "image = image/255 #normalized\n",
    "image = image.reshape(1, 28, 28, 1) #28*28 flatten"
   ]
  },
  {
   "cell_type": "code",
   "execution_count": 22,
   "metadata": {
    "colab": {
     "base_uri": "https://localhost:8080/",
     "height": 34
    },
    "colab_type": "code",
    "executionInfo": {
     "elapsed": 40615,
     "status": "ok",
     "timestamp": 1575209998912,
     "user": {
      "displayName": "Min Latt",
      "photoUrl": "https://lh3.googleusercontent.com/a-/AAuE7mAlt9KMKg2D8MYHum5U8ursCUdVl9obQ-lFZgotjQ=s64",
      "userId": "09358913500386119424"
     },
     "user_tz": -390
    },
    "id": "nTEETTtqqIl1",
    "outputId": "feb78700-31c5-499e-fa44-c594ed7655da"
   },
   "outputs": [
    {
     "name": "stdout",
     "output_type": "stream",
     "text": [
      "predected digit:  [7]\n"
     ]
    }
   ],
   "source": [
    "predection = model.predict_classes(image)\n",
    "print('predected digit: ', str(predection))"
   ]
  },
  {
   "cell_type": "code",
   "execution_count": 24,
   "metadata": {
    "colab": {},
    "colab_type": "code",
    "id": "FGZJjEzNqIl2"
   },
   "outputs": [],
   "source": [
    "#i = plt.imread('./download.png')\n",
    "#i = cv2.resize(i, (28,28))\n",
    "#print(type(i))\n",
    "#print(i.shape)\n",
    "#i = cv2.cvtColor(i, cv2.COLOR_RGB2GRAY)\n",
    "#print(type(i))\n",
    "#print(i.shape)\n",
    "##plt.imshow(i, cmap='gray')\n",
    "#i = i.reshape(1,28,28,1)\n",
    "#predection = model.predict_classes(i)\n",
    "#print('predected digit: ', str(predection))"
   ]
  },
  {
   "cell_type": "code",
   "execution_count": 23,
   "metadata": {
    "colab": {
     "base_uri": "https://localhost:8080/",
     "height": 282
    },
    "colab_type": "code",
    "executionInfo": {
     "elapsed": 741,
     "status": "ok",
     "timestamp": 1575211930672,
     "user": {
      "displayName": "Min Latt",
      "photoUrl": "https://lh3.googleusercontent.com/a-/AAuE7mAlt9KMKg2D8MYHum5U8ursCUdVl9obQ-lFZgotjQ=s64",
      "userId": "09358913500386119424"
     },
     "user_tz": -390
    },
    "id": "hmaxwNLM6jAn",
    "outputId": "20ced513-4bfc-4646-b011-0389a4c4cef7"
   },
   "outputs": [
    {
     "name": "stdout",
     "output_type": "stream",
     "text": [
      "predected digit:  [1]\n"
     ]
    },
    {
     "data": {
      "image/png": "[encoded data removed]",
      "text/plain": [
       "<Figure size 432x288 with 1 Axes>"
      ]
     },
     "metadata": {
      "needs_background": "light"
     },
     "output_type": "display_data"
    }
   ],
   "source": [
    "img_ = plt.imread('./download.png')\n",
    "resized_ = cv2.resize(img_, (28,28))\n",
    "cvt_ = cv2.cvtColor(resized_, cv2.COLOR_RGB2GRAY)\n",
    "plt.imshow(cvt_, cmap='gray')\n",
    "re_ = cvt_.reshape(1,28,28,1)\n",
    "predection = model.predict_classes(re_)\n",
    "print('predected digit: ', str(predection))"
   ]
  },
  {
   "cell_type": "markdown",
   "metadata": {
    "colab_type": "text",
    "id": "ENTSuiXDAqTh"
   },
   "source": [
    "## **TEST**"
   ]
  },
  {
   "cell_type": "code",
   "execution_count": 24,
   "metadata": {
    "colab": {},
    "colab_type": "code",
    "id": "GvORYGBA_vQE"
   },
   "outputs": [
    {
     "name": "stdout",
     "output_type": "stream",
     "text": [
      "predected digit:  [1]\n"
     ]
    }
   ],
   "source": [
    "cvt_ = cv2.cvtColor(cv2.resize(plt.imread('./download.png'), (28,28)), cv2.COLOR_RGB2GRAY)\n",
    "#plt.imshow(cvt_, cmap='gray')\n",
    "re_ = cvt_.reshape(1,28,28,1)\n",
    "predection = model.predict_classes(re_)\n",
    "print('predected digit: ', str(predection))"
   ]
  },
  {
   "cell_type": "code",
   "execution_count": 25,
   "metadata": {
    "colab": {},
    "colab_type": "code",
    "id": "HRrlidgqBwWO"
   },
   "outputs": [],
   "source": [
    "img_ = plt.imread('./download.png')\n",
    "re_ = cv2.resize(img_, (28,28))#.cvtColor(cv2.COLOR_RGB2GRAY)\n"
   ]
  },
  {
   "cell_type": "code",
   "execution_count": 26,
   "metadata": {
    "colab": {},
    "colab_type": "code",
    "id": "G_OuewlaxwcV"
   },
   "outputs": [
    {
     "name": "stdout",
     "output_type": "stream",
     "text": [
      "(1, 24, 24, 30)\n",
      "(1, 10, 10, 15)\n"
     ]
    }
   ],
   "source": [
    "layer1 = Model(inputs=model.layers[0].input, outputs=model.layers[0].output)\n",
    "layer2 = Model(inputs=model.layers[0].input, outputs=model.layers[2].output)\n",
    "visual_layer1 , visual_layer2 = layer1.predict(image) , layer2.predict(image)\n",
    "print(visual_layer1.shape)\n",
    "print(visual_layer2.shape)"
   ]
  },
  {
   "cell_type": "code",
   "execution_count": 27,
   "metadata": {
    "colab": {
     "base_uri": "https://localhost:8080/",
     "height": 357
    },
    "colab_type": "code",
    "executionInfo": {
     "elapsed": 1562,
     "status": "ok",
     "timestamp": 1575216015061,
     "user": {
      "displayName": "Min Latt",
      "photoUrl": "https://lh3.googleusercontent.com/a-/AAuE7mAlt9KMKg2D8MYHum5U8ursCUdVl9obQ-lFZgotjQ=s64",
      "userId": "09358913500386119424"
     },
     "user_tz": -390
    },
    "id": "PSsXf57T-AD3",
    "outputId": "193fb51c-b6e9-46e0-b8a2-be3ce35da131"
   },
   "outputs": [
    {
     "data": {
      "image/png": "[encoded data removed]",
      "text/plain": [
       "<Figure size 720x432 with 30 Axes>"
      ]
     },
     "metadata": {
      "needs_background": "light"
     },
     "output_type": "display_data"
    }
   ],
   "source": [
    "plt.figure(figsize=(10,6))\n",
    "for i in range(30):\n",
    "  plt.subplot(6,5, i+1)\n",
    "  plt.imshow(visual_layer1[0,:,:, i], cmap=plt.get_cmap('jet'))\n",
    "  plt.axis('off')"
   ]
  },
  {
   "cell_type": "code",
   "execution_count": 28,
   "metadata": {
    "colab": {
     "base_uri": "https://localhost:8080/",
     "height": 357
    },
    "colab_type": "code",
    "executionInfo": {
     "elapsed": 1114,
     "status": "ok",
     "timestamp": 1575216020047,
     "user": {
      "displayName": "Min Latt",
      "photoUrl": "https://lh3.googleusercontent.com/a-/AAuE7mAlt9KMKg2D8MYHum5U8ursCUdVl9obQ-lFZgotjQ=s64",
      "userId": "09358913500386119424"
     },
     "user_tz": -390
    },
    "id": "ElaoSvH3AmV5",
    "outputId": "49c30894-022a-4931-c0ac-234d6ff0f404"
   },
   "outputs": [
    {
     "data": {
      "image/png": "[encoded data removed]",
      "text/plain": [
       "<Figure size 720x432 with 15 Axes>"
      ]
     },
     "metadata": {
      "needs_background": "light"
     },
     "output_type": "display_data"
    }
   ],
   "source": [
    "plt.figure(figsize=(10,6))\n",
    "for i in range(15):\n",
    "  plt.subplot(3,5, i+1)\n",
    "  plt.imshow(visual_layer2[0,:,:, i], cmap=plt.get_cmap('jet'))\n",
    "  plt.axis('off')"
   ]
  },
  {
   "cell_type": "markdown",
   "metadata": {
    "colab": {},
    "colab_type": "code",
    "id": "M2t3HBMjUtuZ"
   },
   "source": [
    "### COMPLETE!"
   ]
  },
  {
   "cell_type": "code",
   "execution_count": null,
   "metadata": {},
   "outputs": [],
   "source": []
  }
 ],
 "metadata": {
  "accelerator": "GPU",
  "colab": {
   "collapsed_sections": [],
   "name": "CNN_LAXZ.ipynb",
   "provenance": []
  },
  "kernelspec": {
   "display_name": "Python 3",
   "language": "python",
   "name": "python3"
  },
  "language_info": {
   "codemirror_mode": {
    "name": "ipython",
    "version": 3
   },
   "file_extension": ".py",
   "mimetype": "text/x-python",
   "name": "python",
   "nbconvert_exporter": "python",
   "pygments_lexer": "ipython3",
   "version": "3.6.10"
  }
 },
 "nbformat": 4,
 "nbformat_minor": 4
}
