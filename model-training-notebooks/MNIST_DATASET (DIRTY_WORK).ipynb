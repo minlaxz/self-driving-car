{
 "cells": [
  {
   "cell_type": "code",
   "execution_count": 1,
   "metadata": {},
   "outputs": [
    {
     "name": "stderr",
     "output_type": "stream",
     "text": [
      "Using TensorFlow backend.\n"
     ]
    }
   ],
   "source": [
    "import numpy as np\n",
    "from tensorflow.keras.datasets import mnist\n",
    "from tensorflow.keras.models import Sequential\n",
    "from tensorflow.keras.layers import Dense\n",
    "from tensorflow.keras.optimizers import Adam\n",
    "import keras\n",
    "import tensorflow as tf\n",
    "from keras.utils.np_utils import to_categorical\n",
    "import random\n",
    "import matplotlib.pyplot as plt"
   ]
  },
  {
   "cell_type": "code",
   "execution_count": 2,
   "metadata": {},
   "outputs": [],
   "source": [
    "np.random.seed(0)"
   ]
  },
  {
   "cell_type": "code",
   "execution_count": 3,
   "metadata": {},
   "outputs": [],
   "source": [
    "(X_train, y_train), (X_test, y_test) = mnist.load_data()"
   ]
  },
  {
   "cell_type": "code",
   "execution_count": 4,
   "metadata": {},
   "outputs": [
    {
     "name": "stdout",
     "output_type": "stream",
     "text": [
      "(60000, 28, 28)\n",
      "(10000, 28, 28)\n",
      "(60000,)\n",
      "(10000,)\n"
     ]
    }
   ],
   "source": [
    "print(X_train.shape)\n",
    "print(X_test.shape)\n",
    "print(y_train.shape)\n",
    "print(y_test.shape)"
   ]
  },
  {
   "cell_type": "code",
   "execution_count": 5,
   "metadata": {},
   "outputs": [
    {
     "data": {
      "text/plain": [
       "<matplotlib.image.AxesImage at 0x7fa8ea83e588>"
      ]
     },
     "execution_count": 5,
     "metadata": {},
     "output_type": "execute_result"
    },
    {
     "data": {
      "image/png": "[encoded data removed]",
      "text/plain": [
       "<Figure size 432x288 with 1 Axes>"
      ]
     },
     "metadata": {
      "needs_background": "light"
     },
     "output_type": "display_data"
    }
   ],
   "source": [
    "plt.imshow(X_train[y_train == 9][0], cmap='gray')"
   ]
  },
  {
   "cell_type": "code",
   "execution_count": 6,
   "metadata": {},
   "outputs": [
    {
     "data": {
      "text/plain": [
       "<matplotlib.image.AxesImage at 0x7fa8ecc8bc88>"
      ]
     },
     "execution_count": 6,
     "metadata": {},
     "output_type": "execute_result"
    },
    {
     "data": {
      "image/png": "[encoded data removed]",
      "text/plain": [
       "<Figure size 432x288 with 1 Axes>"
      ]
     },
     "metadata": {
      "needs_background": "light"
     },
     "output_type": "display_data"
    }
   ],
   "source": [
    "plt.imshow(X_train[y_train == 1][0], cmap='gray')"
   ]
  },
  {
   "cell_type": "code",
   "execution_count": 7,
   "metadata": {},
   "outputs": [],
   "source": [
    "samples = []\n",
    "for i in range(10):\n",
    "    samples.append((X_train[y_train==i]).shape[0])"
   ]
  },
  {
   "cell_type": "code",
   "execution_count": 8,
   "metadata": {},
   "outputs": [
    {
     "data": {
      "text/plain": [
       "[5923, 6742, 5958, 6131, 5842, 5421, 5918, 6265, 5851, 5949]"
      ]
     },
     "execution_count": 8,
     "metadata": {},
     "output_type": "execute_result"
    }
   ],
   "source": [
    "samples"
   ]
  },
  {
   "cell_type": "code",
   "execution_count": 9,
   "metadata": {},
   "outputs": [],
   "source": [
    "y_train = to_categorical(y_train,10)\n",
    "y_test = to_categorical(y_test,10)\n"
   ]
  },
  {
   "cell_type": "code",
   "execution_count": 10,
   "metadata": {},
   "outputs": [
    {
     "name": "stdout",
     "output_type": "stream",
     "text": [
      "(60000, 10)\n",
      "(10000, 10)\n"
     ]
    }
   ],
   "source": [
    "print(y_train.shape)\n",
    "print(y_test.shape)"
   ]
  },
  {
   "cell_type": "code",
   "execution_count": 11,
   "metadata": {},
   "outputs": [],
   "source": [
    "#let's normalize\n",
    "X_train = X_train / 255 #255/255=1  127/255=0.5 ...\n",
    "X_test = X_test / 255"
   ]
  },
  {
   "cell_type": "code",
   "execution_count": 12,
   "metadata": {},
   "outputs": [
    {
     "name": "stdout",
     "output_type": "stream",
     "text": [
      "(60000, 784)\n",
      "(10000, 784)\n"
     ]
    }
   ],
   "source": [
    "# flatten\n",
    "n_pixels = 784\n",
    "X_train = X_train.reshape(X_train.shape[0],n_pixels)\n",
    "X_test = X_test.reshape(X_test.shape[0],n_pixels)\n",
    "print(X_train.shape)\n",
    "print(X_test.shape)"
   ]
  },
  {
   "cell_type": "code",
   "execution_count": 13,
   "metadata": {},
   "outputs": [],
   "source": [
    "def cread_model():\n",
    "    model = Sequential()\n",
    "    model.add(Dense(10, input_dim=n_pixels, activation=\"relu\"))\n",
    "    model.add(Dense(10, activation=\"relu\"))\n",
    "    model.add(Dense(10, activation='softmax'))\n",
    "    model.compile(Adam(lr=0.01), loss='categorical_crossentropy', metrics=['accuracy'])\n",
    "    return model"
   ]
  },
  {
   "cell_type": "code",
   "execution_count": 14,
   "metadata": {},
   "outputs": [
    {
     "name": "stdout",
     "output_type": "stream",
     "text": [
      "Model: \"sequential\"\n",
      "_________________________________________________________________\n",
      "Layer (type)                 Output Shape              Param #   \n",
      "=================================================================\n",
      "dense (Dense)                (None, 10)                7850      \n",
      "_________________________________________________________________\n",
      "dense_1 (Dense)              (None, 10)                110       \n",
      "_________________________________________________________________\n",
      "dense_2 (Dense)              (None, 10)                110       \n",
      "=================================================================\n",
      "Total params: 8,070\n",
      "Trainable params: 8,070\n",
      "Non-trainable params: 0\n",
      "_________________________________________________________________\n"
     ]
    }
   ],
   "source": [
    "model = cread_model()\n",
    "model.summary()"
   ]
  },
  {
   "cell_type": "code",
   "execution_count": 15,
   "metadata": {},
   "outputs": [
    {
     "name": "stdout",
     "output_type": "stream",
     "text": [
      "Train on 54000 samples, validate on 6000 samples\n",
      "Epoch 1/25\n",
      "54000/54000 [==============================] - 2s 46us/sample - loss: 0.5409 - accuracy: 0.8360 - val_loss: 0.2564 - val_accuracy: 0.9260\n",
      "Epoch 2/25\n",
      "54000/54000 [==============================] - 2s 39us/sample - loss: 0.2867 - accuracy: 0.9165 - val_loss: 0.2606 - val_accuracy: 0.9268\n",
      "Epoch 3/25\n",
      "54000/54000 [==============================] - 2s 38us/sample - loss: 0.2572 - accuracy: 0.9254 - val_loss: 0.2151 - val_accuracy: 0.9398\n",
      "Epoch 4/25\n",
      "54000/54000 [==============================] - 2s 40us/sample - loss: 0.2394 - accuracy: 0.9298 - val_loss: 0.2140 - val_accuracy: 0.9392\n",
      "Epoch 5/25\n",
      "54000/54000 [==============================] - 2s 31us/sample - loss: 0.2302 - accuracy: 0.9324 - val_loss: 0.1987 - val_accuracy: 0.9412\n",
      "Epoch 6/25\n",
      "54000/54000 [==============================] - 2s 38us/sample - loss: 0.2189 - accuracy: 0.9345 - val_loss: 0.1985 - val_accuracy: 0.9438\n",
      "Epoch 7/25\n",
      "54000/54000 [==============================] - 2s 30us/sample - loss: 0.2178 - accuracy: 0.9354 - val_loss: 0.1966 - val_accuracy: 0.9433\n",
      "Epoch 8/25\n",
      "54000/54000 [==============================] - 2s 29us/sample - loss: 0.2108 - accuracy: 0.9370 - val_loss: 0.1920 - val_accuracy: 0.9432\n",
      "Epoch 9/25\n",
      "54000/54000 [==============================] - 1s 27us/sample - loss: 0.2078 - accuracy: 0.9367 - val_loss: 0.2056 - val_accuracy: 0.9410\n",
      "Epoch 10/25\n",
      "54000/54000 [==============================] - 1s 27us/sample - loss: 0.2078 - accuracy: 0.9372 - val_loss: 0.2035 - val_accuracy: 0.9408\n",
      "Epoch 11/25\n",
      "54000/54000 [==============================] - 2s 39us/sample - loss: 0.1986 - accuracy: 0.9404 - val_loss: 0.1990 - val_accuracy: 0.9412\n",
      "Epoch 12/25\n",
      "54000/54000 [==============================] - 2s 35us/sample - loss: 0.1984 - accuracy: 0.9397 - val_loss: 0.1926 - val_accuracy: 0.9447\n",
      "Epoch 13/25\n",
      "54000/54000 [==============================] - 2s 31us/sample - loss: 0.1984 - accuracy: 0.9405 - val_loss: 0.2151 - val_accuracy: 0.9335\n",
      "Epoch 14/25\n",
      "54000/54000 [==============================] - 2s 29us/sample - loss: 0.1950 - accuracy: 0.9407 - val_loss: 0.1812 - val_accuracy: 0.9478\n",
      "Epoch 15/25\n",
      "54000/54000 [==============================] - 2s 32us/sample - loss: 0.1949 - accuracy: 0.9408 - val_loss: 0.1901 - val_accuracy: 0.9437\n",
      "Epoch 16/25\n",
      "54000/54000 [==============================] - 2s 28us/sample - loss: 0.1933 - accuracy: 0.9408 - val_loss: 0.1993 - val_accuracy: 0.9408\n",
      "Epoch 17/25\n",
      "54000/54000 [==============================] - 2s 33us/sample - loss: 0.1890 - accuracy: 0.9425 - val_loss: 0.2048 - val_accuracy: 0.9453\n",
      "Epoch 18/25\n",
      "54000/54000 [==============================] - 2s 31us/sample - loss: 0.1899 - accuracy: 0.9412 - val_loss: 0.1881 - val_accuracy: 0.9450\n",
      "Epoch 19/25\n",
      "54000/54000 [==============================] - 2s 35us/sample - loss: 0.1897 - accuracy: 0.9420 - val_loss: 0.1963 - val_accuracy: 0.9422\n",
      "Epoch 20/25\n",
      "54000/54000 [==============================] - 3s 49us/sample - loss: 0.1858 - accuracy: 0.9428 - val_loss: 0.1962 - val_accuracy: 0.9432\n",
      "Epoch 21/25\n",
      "54000/54000 [==============================] - 2s 39us/sample - loss: 0.1868 - accuracy: 0.9432 - val_loss: 0.1989 - val_accuracy: 0.9447\n",
      "Epoch 22/25\n",
      "54000/54000 [==============================] - 2s 34us/sample - loss: 0.1850 - accuracy: 0.9431 - val_loss: 0.1908 - val_accuracy: 0.9475\n",
      "Epoch 23/25\n",
      "54000/54000 [==============================] - 2s 35us/sample - loss: 0.1832 - accuracy: 0.9446 - val_loss: 0.1961 - val_accuracy: 0.9430\n",
      "Epoch 24/25\n",
      "54000/54000 [==============================] - 2s 32us/sample - loss: 0.1858 - accuracy: 0.9444 - val_loss: 0.1864 - val_accuracy: 0.9480\n",
      "Epoch 25/25\n",
      "54000/54000 [==============================] - 2s 32us/sample - loss: 0.1821 - accuracy: 0.9441 - val_loss: 0.1896 - val_accuracy: 0.9460\n"
     ]
    }
   ],
   "source": [
    "history = model.fit(X_train, y_train, validation_split=0.1, epochs= 25, batch_size=200, verbose=1, shuffle=1)"
   ]
  },
  {
   "cell_type": "code",
   "execution_count": 16,
   "metadata": {},
   "outputs": [
    {
     "data": {
      "text/plain": [
       "Text(0.5, 0, 'epoch')"
      ]
     },
     "execution_count": 16,
     "metadata": {},
     "output_type": "execute_result"
    },
    {
     "data": {
      "image/png": "[encoded data removed]",
      "text/plain": [
       "<Figure size 432x288 with 1 Axes>"
      ]
     },
     "metadata": {
      "needs_background": "light"
     },
     "output_type": "display_data"
    }
   ],
   "source": [
    "plt.plot(history.history['loss'])\n",
    "plt.plot(history.history['val_loss'])\n",
    "plt.legend(['loss', 'val_loss'])\n",
    "plt.title('Loss')\n",
    "plt.xlabel('epoch')"
   ]
  },
  {
   "cell_type": "code",
   "execution_count": 19,
   "metadata": {},
   "outputs": [
    {
     "data": {
      "text/plain": [
       "Text(0.5, 0, 'epoch')"
      ]
     },
     "execution_count": 19,
     "metadata": {},
     "output_type": "execute_result"
    },
    {
     "data": {
      "image/png": "[encoded data removed]",
      "text/plain": [
       "<Figure size 432x288 with 1 Axes>"
      ]
     },
     "metadata": {
      "needs_background": "light"
     },
     "output_type": "display_data"
    }
   ],
   "source": [
    "plt.plot(history.history['accuracy'])\n",
    "plt.plot(history.history['val_accuracy'])\n",
    "plt.legend(['acc', 'val_acc'])\n",
    "plt.title('Accuracy')\n",
    "plt.xlabel('epoch')"
   ]
  },
  {
   "cell_type": "code",
   "execution_count": 20,
   "metadata": {},
   "outputs": [
    {
     "name": "stdout",
     "output_type": "stream",
     "text": [
      "10000/10000 [==============================] - 1s 92us/sample - loss: 0.2351 - accuracy: 0.9348\n",
      "<class 'list'>\n"
     ]
    }
   ],
   "source": [
    "score = model.evaluate(X_test, y_test, verbose = 1)\n",
    "print(type(score))"
   ]
  },
  {
   "cell_type": "code",
   "execution_count": 21,
   "metadata": {},
   "outputs": [
    {
     "data": {
      "text/plain": [
       "<matplotlib.image.AxesImage at 0x7fa8ec9ba4a8>"
      ]
     },
     "execution_count": 21,
     "metadata": {},
     "output_type": "execute_result"
    },
    {
     "data": {
      "image/png": "[encoded data removed]",
      "text/plain": [
       "<Figure size 432x288 with 1 Axes>"
      ]
     },
     "metadata": {
      "needs_background": "light"
     },
     "output_type": "display_data"
    }
   ],
   "source": [
    "import requests\n",
    "from PIL import Image\n",
    "url = 'https://www.researchgate.net/profile/Jose_Sempere/publication/221258631/figure/fig1/AS:305526891139075@1449854695342/Handwritten-digit-2.png'\n",
    "response = requests.get(url, stream=True)\n",
    "img = Image.open(response.raw)\n",
    "\n",
    "plt.imshow(img)"
   ]
  },
  {
   "cell_type": "code",
   "execution_count": 22,
   "metadata": {},
   "outputs": [
    {
     "name": "stdout",
     "output_type": "stream",
     "text": [
      "[[255 255 255 255 255 255 255 255 255 255 255 255 255 137   0   0   0   0\n",
      "    0   0   0   0  33 255 255 255 255 255]\n",
      " [255 255 255 255 255 255 255 255   0   0   0   0   0   0   0   0   0   0\n",
      "    0   0   0   0   0 253 255 255 255 255]\n",
      " [255 255 255 255 255 255 255   0   0   0   0   0   0   0   0   0   0   0\n",
      "    0   0   0   0   0   0   0 255 255 255]\n",
      " [255 255 255 255 255 255 255   0   0   0   0   0   0   0   0   0   0   0\n",
      "    0   0   0   0   0   0   0 255 255 255]\n",
      " [255 255 255 255 255 255 255   0   0   0   0   0   0   0   0   0   1   1\n",
      "    1 255  19   0   0   0   0 255 255 255]\n",
      " [255 255 255 255 255 255 255 222   0   0   0   0   0   0   0 222 255 255\n",
      "  255 255 255   0   0   0   0 255 255 255]\n",
      " [255 255 255 255 255 255 255 255 234   0   0   0   0   0 234 255 255 255\n",
      "  255 255  40   0   0   0   0 255 255 255]\n",
      " [255 255 255 255 255 255 255 255 255 255 192   0   0 118 255 255 255 255\n",
      "  255 255  20   0   0   0   0 255 255 255]\n",
      " [255 255 255 255 255 255 255 255 255 255 255   0 255 255 255 255 255 255\n",
      "  255 255  20   0   0   0   0 255 255 255]\n",
      " [255 255 255 255 255 255 255 255 255 255 255 255 255 255 255 255 255 255\n",
      "  255 248   0   0   0   0   0 255 255 255]\n",
      " [255 255 255 255 255 255 255 255 255 255 255 255 255 255 255 255 255 255\n",
      "  255   0   0   0   0   0 255 255 255 255]\n",
      " [255 255 255 255 255 255 255 255 255 255 255 255 255 255 255 255 255 255\n",
      "    0   0   0   0   0   0 255 255 255 255]\n",
      " [255 255 255 255 255 255 255 255 255 255 255 255 255 255 255 255 255 255\n",
      "    0   0   0   0   0 253 255 255 255 255]\n",
      " [255 255 255 255 255 255 255 255 255 255 255 255 255 255 255 255 255 255\n",
      "    0   0   0   0  26 255 255 255 255 255]\n",
      " [255 255 255 255 255 255 255 255 255 255 255 255 255 255 255 255 255   0\n",
      "    0   0   0 137 255 255 255 255 255 255]\n",
      " [255 255 255 255 255 255 255 255 255 255 255 255 255 255 255 255 255   0\n",
      "    0   0 144 255 255 255 255 255 255 255]\n",
      " [255 255 255 255   0   0   0 255 255 255 255 255 255 255 255 255   0   0\n",
      "    0   0 234 255 255 255 255 255 255 255]\n",
      " [255 255   0   0   0   0   0   0   0   0   0 255 255 255 255 255   0   0\n",
      "    0   0 234 255 255 255 255 255 255 255]\n",
      " [255   0   0   0   0   0   0   0   0   0   0   0   0   0   0   0   0   0\n",
      "    0   6 255 255 255 255 255 255 255 255]\n",
      " [255   0   0   0   0   0   0   0   0   0   0   0   0   0   0   0   0   0\n",
      "    0   0 234 255 255 255 255 255 255 255]\n",
      " [  0   0   0   0   0   0   0   0   0   0   0   0   0   0   0   0   0   0\n",
      "    0   0   0 255 255 255 255   0   0 255]\n",
      " [  0   0   0   0   0 255 255 255 255   0   0   0   0   0   0   0   0   0\n",
      "    0   0   0   0   0   0   0   0   0   0]\n",
      " [255   0   0   0   0 255 255 255 255 255 193   0   0   0   0   0   0   0\n",
      "    0   0   0   0   0   0   0   0   0 255]\n",
      " [255  18   0   0   0   0   0 209 209   0   0   0   0   0   0   0  46  46\n",
      "  255  46  46  46  40   0   0   0 255 255]\n",
      " [255 136   0   0   0   0   0   0   0   0   0   0   0   0   0  63 255 255\n",
      "  255 255 255 255 230  63  63  63 255 255]\n",
      " [255 255 255 255   0   0   0   0   0   0   0   0   0 121 255 255 255 255\n",
      "  255 255 255 255 255 255 255 255 255 255]\n",
      " [255 255 255 255  48   0   0   0   0   0   0   0 255 255 255 255 255 255\n",
      "  255 255 255 255 255 255 255 255 255 255]\n",
      " [255 255 255 255 255 255 255   0   0   0 255 255 255 255 255 255 255 255\n",
      "  255 255 255 255 255 255 255 255 255 255]]\n"
     ]
    },
    {
     "data": {
      "image/png": "[encoded data removed]",
      "text/plain": [
       "<Figure size 432x288 with 1 Axes>"
      ]
     },
     "metadata": {
      "needs_background": "light"
     },
     "output_type": "display_data"
    }
   ],
   "source": [
    "import cv2\n",
    "\n",
    "img_arr = np.asarray(img)\n",
    "resize = cv2.resize(img_arr, (28,28))\n",
    "gray = cv2.cvtColor(resize, cv2.COLOR_BGR2GRAY)\n",
    "image = cv2.bitwise_not(gray)\n",
    "plt.imshow(gray, cmap=plt.get_cmap('gray'))\n",
    "print(gray)"
   ]
  },
  {
   "cell_type": "code",
   "execution_count": null,
   "metadata": {},
   "outputs": [],
   "source": []
  }
 ],
 "metadata": {
  "kernelspec": {
   "display_name": "Python 3",
   "language": "python",
   "name": "python3"
  },
  "language_info": {
   "codemirror_mode": {
    "name": "ipython",
    "version": 3
   },
   "file_extension": ".py",
   "mimetype": "text/x-python",
   "name": "python",
   "nbconvert_exporter": "python",
   "pygments_lexer": "ipython3",
   "version": "3.6.10"
  }
 },
 "nbformat": 4,
 "nbformat_minor": 4
}
