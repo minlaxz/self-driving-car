{
 "cells": [
  {
   "cell_type": "markdown",
   "metadata": {},
   "source": [
    "### This notebook should be run on **`Google Colab`** <br>\n",
    "if you don't have enough performance for heavy computation"
   ]
  },
  {
   "cell_type": "code",
   "execution_count": 1,
   "metadata": {
    "colab": {},
    "colab_type": "code",
    "id": "mnI7fuXhklHI"
   },
   "outputs": [
    {
     "name": "stderr",
     "output_type": "stream",
     "text": [
      "Using TensorFlow backend.\n"
     ]
    }
   ],
   "source": [
    "import numpy as np\n",
    "from keras.models import Sequential \n",
    "from keras.optimizers import Adam\n",
    "from keras.layers import Flatten, Dense, Dropout\n",
    "import pandas as pd\n",
    "import matplotlib.pyplot as plt\n",
    "import cv2, random, os, ntpath\n",
    "from sklearn.utils import shuffle\n",
    "from keras.layers import Convolution2D #check\n",
    "from sklearn.model_selection import train_test_split\n",
    "import matplotlib.image as mpimg\n",
    "from imgaug import augmenters as iaa"
   ]
  },
  {
   "cell_type": "code",
   "execution_count": null,
   "metadata": {
    "colab": {},
    "colab_type": "code",
    "id": "nJKAzqPQkvXg"
   },
   "outputs": [],
   "source": [
    "!git clone https://github.com/minlaxz/simulator_track"
   ]
  },
  {
   "cell_type": "code",
   "execution_count": null,
   "metadata": {
    "colab": {},
    "colab_type": "code",
    "id": "ZRnDbOoik4aI"
   },
   "outputs": [],
   "source": [
    "datadir = 'simulator_track'\n",
    "columns = ['center', 'left', 'right', 'steering', 'throttle', 'reverse', 'speed']\n",
    "data = pd.read_csv(os.path.join(datadir,'driving_log.csv'), names = columns)\n",
    "pd.set_option('display.max_colwidth', -1)\n",
    "data.head(3)"
   ]
  },
  {
   "cell_type": "code",
   "execution_count": null,
   "metadata": {
    "colab": {},
    "colab_type": "code",
    "id": "aczm2qm7k5Mo"
   },
   "outputs": [],
   "source": [
    "def path_leaf(path):\n",
    "  head, tail= ntpath.split(path)\n",
    "  return tail\n",
    "\n",
    "data['center'] = data['center'].apply(path_leaf)\n",
    "data['left'] = data['left'].apply(path_leaf)\n",
    "data['right'] = data['right'].apply(path_leaf)\n",
    "data.head(3)"
   ]
  },
  {
   "cell_type": "code",
   "execution_count": null,
   "metadata": {
    "colab": {},
    "colab_type": "code",
    "id": "FuwClnaEk9IR"
   },
   "outputs": [],
   "source": [
    "num_bins = 25\n",
    "\n",
    "samples_per_bin = 250 \n",
    "\n",
    "hist, bins= np.histogram(data['steering'], num_bins)  #6386 steering points will split into 25 cate\n",
    "print(len(bins))                                      #bins return from histogram is 26 length but no zero value\n",
    "\n",
    "center = (bins[:-1] + bins[1:]) * 0.5\n",
    "print(len(center))                                    #rearraged including zero\n",
    "\n",
    "plt.bar(center, hist, width=0.05)\n",
    "#plt.plot((np.min(data['steering']), np.max(data['steering'])), (200,200))\n",
    "plt.plot((-1,1),(samples_per_bin,samples_per_bin))"
   ]
  },
  {
   "cell_type": "code",
   "execution_count": null,
   "metadata": {
    "colab": {},
    "colab_type": "code",
    "id": "WjGZel2OlAH_"
   },
   "outputs": [],
   "source": [
    "print(bins)\n",
    "print('total data', len(data))  #6386\n",
    "remove_list = []\n",
    "for j in range(num_bins):       #0 -> 25\n",
    "  list_ = []\n",
    "  for i in range(len(data['steering'])):   #0 -> 6386\n",
    "    if data['steering'][i] >= bins[j] and data['steering'][i] <= bins[j+1]:\n",
    "      list_.append(i)\n",
    "  list_ = shuffle(list_)          #shuffle for data stablity\n",
    "  list_ = list_[samples_per_bin:] #250 to the end **CROP\n",
    "  remove_list.extend(list_)       #like append but whole list adding\n",
    "\n",
    "print('removed' , len(remove_list))\n",
    "data.drop(data.index[remove_list], inplace=True)\n",
    "print('remaining' , len(data))\n",
    "\n",
    "hist, _ = np.histogram(data['steering'], (num_bins))"
   ]
  },
  {
   "cell_type": "code",
   "execution_count": null,
   "metadata": {
    "colab": {},
    "colab_type": "code",
    "id": "zS0V3r-OlDfZ"
   },
   "outputs": [],
   "source": [
    "#plt.bar(center, hist, width=0.05)\n",
    "#plt.plot((np.min(data['steering']), np.max(data['steering'])), (samples_per_bin,samples_per_bin))"
   ]
  },
  {
   "cell_type": "code",
   "execution_count": null,
   "metadata": {
    "colab": {},
    "colab_type": "code",
    "id": "iq4RkIxmlFaw"
   },
   "outputs": [],
   "source": [
    "def load_img_steering(datadir, df):\n",
    "  image_path=[]\n",
    "  steering = []\n",
    "  for i in range(len(data)):  #0 -> 1874 dropped data\n",
    "    indexed_data = data.iloc[i]\n",
    "    center , left , right = indexed_data[0], indexed_data[1], indexed_data[2]\n",
    "    image_path.append(os.path.join(datadir+center.strip()))\n",
    "    steering.append(float(indexed_data[3]))\n",
    "  image_paths = np.asarray(image_path)\n",
    "  steerings = np.asarray(steering)\n",
    "  return image_paths, steerings\n",
    "\n",
    "image_paths , steerings = load_img_steering(datadir+'/IMG/' , data)"
   ]
  },
  {
   "cell_type": "code",
   "execution_count": null,
   "metadata": {
    "colab": {},
    "colab_type": "code",
    "id": "bBPkVOgjlII4"
   },
   "outputs": [],
   "source": [
    "X_train, X_valid , y_train, y_valid = train_test_split(image_paths, steerings, test_size=0.2, random_state=6)\n",
    "print('Training samples', len(X_train))\n",
    "print('Validation samples', len(X_valid))"
   ]
  },
  {
   "cell_type": "code",
   "execution_count": null,
   "metadata": {
    "colab": {},
    "colab_type": "code",
    "id": "gDV5OluRlLRQ"
   },
   "outputs": [],
   "source": [
    "def zoom(image):\n",
    "  zoom = iaa.Affine(scale=(1, 1.3))\n",
    "  image = zoom.augment_image(image)\n",
    "  return image\n",
    "def pan(image):\n",
    "   pan = iaa.Affine(translate_percent={\"x\":(-0.1, 0.1), \"y\":(-0.1,0.1)})\n",
    "   image = pan.augment_image(image)\n",
    "   return image\n",
    "def img_random_brightness(image):\n",
    "  brightness = iaa.Multiply((0.2, 1.2))\n",
    "  image = brightness.augment_image(image)\n",
    "  return image\n",
    "def img_random_flip(image,steering_angle):\n",
    "  image = cv2.flip(image, 1)\n",
    "  steering_angle = -steering_angle\n",
    "  return image, steering_angle\n",
    "def random_augment(image, steering_angle):\n",
    "    #image = mpimg.imread(image)\n",
    "    if np.random.rand() < 0.5:\n",
    "      image = pan(image)\n",
    "    if np.random.rand() < 0.5:\n",
    "      image = zoom(image)\n",
    "    if np.random.rand() < 0.5:\n",
    "      image = img_random_brightness(image)\n",
    "    if np.random.rand() < 0.5:\n",
    "      image, steering_angle = img_random_flip(image, steering_angle)\n",
    "    \n",
    "    return image, steering_angle"
   ]
  },
  {
   "cell_type": "code",
   "execution_count": null,
   "metadata": {
    "colab": {},
    "colab_type": "code",
    "id": "7aODNrNIlabi"
   },
   "outputs": [],
   "source": [
    "def img_preprocess(img):\n",
    "    img = img[60:135,:,:]\n",
    "    img = cv2.cvtColor(img, cv2.COLOR_RGB2YUV)\n",
    "    img = cv2.GaussianBlur(img,  (3, 3), 0)\n",
    "    img = cv2.resize(img, (200, 66))\n",
    "    img = img/255\n",
    "    return img"
   ]
  },
  {
   "cell_type": "code",
   "execution_count": null,
   "metadata": {
    "colab": {},
    "colab_type": "code",
    "id": "fVHdzFg1lfMJ"
   },
   "outputs": [],
   "source": [
    "def batch_generator(image_paths, steering_ang, batch_size, istraining):\n",
    "  while True:\n",
    "    batch_img = []\n",
    "    batch_steering = []\n",
    "    for i in range(batch_size):\n",
    "      random_index = random.randint(0,len(image_paths)-1)\n",
    "\n",
    "      if istraining:\n",
    "        im, steering = random_augment(image_paths[random_index], steering_ang[random_index])\n",
    "      else:\n",
    "        im = mpimg.imread(image_paths[random_index])\n",
    "        steering = steering_ang[random_index]\n",
    "      \n",
    "      im = img_preprocess(im)\n",
    "      batch_img.append(im)\n",
    "      batch_steering.append(steering)\n",
    "    yield (np.asarray(batch_img), np.asarray(batch_steering))"
   ]
  },
  {
   "cell_type": "code",
   "execution_count": null,
   "metadata": {
    "colab": {},
    "colab_type": "code",
    "id": "Gs3jyzGAp8gx"
   },
   "outputs": [],
   "source": [
    "def nvidia_model():\n",
    "  model = Sequential()\n",
    "  model.add(Convolution2D(24, 5, 5, subsample=(2,2), input_shape=(66,200,3) , activation='elu' ))\n",
    "  model.add(Convolution2D(36, 5 ,5, subsample=(2,2), activation='elu'))\n",
    "  model.add(Convolution2D(48, 5 ,5, subsample=(2,2), activation='elu'))\n",
    "  model.add(Convolution2D(64, 3 ,3, activation='elu'))\n",
    "  model.add(Convolution2D(64, 3 ,3, activation='elu'))\n",
    "  model.add(Dropout(0.5))\n",
    "\n",
    "  model.add(Flatten())\n",
    "\n",
    "  model.add(Dense(100, activation='elu'))\n",
    "  model.add(Dropout(0.5))\n",
    "\n",
    "  model.add(Dense(50, activation='elu'))\n",
    "  model.add(Dropout(0.5))\n",
    "\n",
    "  model.add(Dense(10, activation='elu'))\n",
    "  model.add(Dropout(0.5))\n",
    "  \n",
    "  model.add(Dense(1))\n",
    "\n",
    "  optimizer = Adam(lr = 0.001)\n",
    "  model.compile(loss='mse', optimizer=optimizer)\n",
    "  \n",
    "  return model"
   ]
  },
  {
   "cell_type": "code",
   "execution_count": null,
   "metadata": {
    "colab": {},
    "colab_type": "code",
    "id": "OWci14FRqAKW"
   },
   "outputs": [],
   "source": [
    "model = nvidia_model()\n",
    "print(model.summary())"
   ]
  },
  {
   "cell_type": "code",
   "execution_count": null,
   "metadata": {
    "colab": {},
    "colab_type": "code",
    "id": "e-TuFbWNqB5P"
   },
   "outputs": [],
   "source": [
    "history = model.fit_generator(batch_generator(X_train, y_train, 100, 1 ),\n",
    "                              steps_per_epoch=300,\n",
    "                              epochs=10,\n",
    "                              validation_data=batch_generator(X_valid, y_valid, 100, 0),\n",
    "                              validation_steps=200,\n",
    "                              verbose=1,\n",
    "                              shuffle=1)"
   ]
  },
  {
   "cell_type": "code",
   "execution_count": null,
   "metadata": {
    "colab": {},
    "colab_type": "code",
    "id": "qh3Z3C2KqFYb"
   },
   "outputs": [],
   "source": [
    "plt.plot(history.history['loss'])\n",
    "plt.plot(history.history['val_loss'])\n",
    "plt.legend(['loss', 'val_loss'])\n",
    "plt.title('Loss')\n",
    "plt.xlabel('epoch')"
   ]
  }
 ],
 "metadata": {
  "accelerator": "GPU",
  "colab": {
   "name": "model_training.ipynb",
   "provenance": []
  },
  "kernelspec": {
   "display_name": "Python 3",
   "language": "python",
   "name": "python3"
  },
  "language_info": {
   "codemirror_mode": {
    "name": "ipython",
    "version": 3
   },
   "file_extension": ".py",
   "mimetype": "text/x-python",
   "name": "python",
   "nbconvert_exporter": "python",
   "pygments_lexer": "ipython3",
   "version": "3.6.10"
  }
 },
 "nbformat": 4,
 "nbformat_minor": 4
}
